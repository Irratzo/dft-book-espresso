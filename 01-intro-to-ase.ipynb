{
 "cells": [
  {
   "cell_type": "markdown",
   "metadata": {
    "colab_type": "text",
    "id": "A5T75wj0lZg9"
   },
   "source": [
    "<a href=\"https://colab.research.google.com/github/jkitchin/dft-book-espresso/blob/master/01-intro-to-ase.ipynb\" target=\"_blank\"><img align=\"left\" src=\"https://colab.research.google.com/assets/colab-badge.svg\" alt=\"Open in Colab\" title=\"Open and Execute in Google Colaboratory\"></a> Right click to open in new tab."
   ]
  },
  {
   "cell_type": "markdown",
   "metadata": {
    "colab_type": "text",
    "id": "LwvDXiyZzcvx"
   },
   "source": [
    "Author: John Kitchin\n",
    "\n",
    "Date: March 22, 2020\n",
    "\n",
    "# Introduction to the Atomic Simulation Environment\n",
    "\n",
    "The goal of this notebook is to introduce you to the Atomic Simulation Environment (ASE) and how to make a molecule in it. We will explore a few properties of the molecule geometry that you can access through ASE. This is the first step in setting up a DFT calculation. We will nor run a DFT calculation today. That will happen in the next notebook."
   ]
  },
  {
   "cell_type": "code",
   "execution_count": 4,
   "metadata": {},
   "outputs": [],
   "source": [
    "run_on_colab = False"
   ]
  },
  {
   "cell_type": "markdown",
   "metadata": {
    "colab_type": "text",
    "id": "QGDHlFGukQMs"
   },
   "source": [
    "# Setup\n",
    "Start by installing ASE and a visualization tool. This is specific to running in Colab. If you have your own Jupyter notebook and compute server, you do not need to do this."
   ]
  },
  {
   "cell_type": "code",
   "execution_count": 5,
   "metadata": {
    "colab": {
     "base_uri": "https://localhost:8080/",
     "height": 187
    },
    "colab_type": "code",
    "executionInfo": {
     "elapsed": 2854,
     "status": "ok",
     "timestamp": 1584912785032,
     "user": {
      "displayName": "John Kitchin",
      "photoUrl": "",
      "userId": "14782011281593705406"
     },
     "user_tz": 240
    },
    "id": "VurcgJhikNkp",
    "outputId": "b3857abd-0b1a-4f7b-a071-6e10ad7ade86"
   },
   "outputs": [],
   "source": [
    "if run_on_colab:\n",
    "    !pip install ase pythreejs ipywidgets ase-notebook "
   ]
  },
  {
   "cell_type": "markdown",
   "metadata": {
    "colab_type": "text",
    "id": "N29NLIaJyPHQ"
   },
   "source": [
    "# Getting started making molecules from scratch"
   ]
  },
  {
   "cell_type": "markdown",
   "metadata": {
    "colab_type": "text",
    "id": "8-mh3a7FlWXU"
   },
   "source": [
    "We start by making a CO molecule and visualizing it. ASE is an object-oriented interface, so we define the geometry as a set of objects. The main object is an `Atoms` object. It consistes of a list of `Atom` objects that define the type and position of each atom. Finally, we define the unit cell, here as a cube of with lengths (a, b, c) where those are each 10 angstroms long."
   ]
  },
  {
   "cell_type": "code",
   "execution_count": 6,
   "metadata": {
    "colab": {
     "base_uri": "https://localhost:8080/",
     "height": 34
    },
    "colab_type": "code",
    "executionInfo": {
     "elapsed": 237,
     "status": "ok",
     "timestamp": 1584912787163,
     "user": {
      "displayName": "John Kitchin",
      "photoUrl": "",
      "userId": "14782011281593705406"
     },
     "user_tz": 240
    },
    "id": "owGgzLLZkTXd",
    "outputId": "6898bdf2-4782-43c9-b129-df93c3597e25"
   },
   "outputs": [
    {
     "data": {
      "text/plain": [
       "Atoms(symbols='CO', pbc=False, cell=[10.0, 10.0, 10.0])"
      ]
     },
     "execution_count": 6,
     "metadata": {},
     "output_type": "execute_result"
    }
   ],
   "source": [
    "from ase import Atoms, Atom\n",
    "from ase.visualize import view\n",
    "\n",
    "# define an Atoms object\n",
    "atoms = Atoms([Atom('C', [0., 0., 0.]),\n",
    "               Atom('O', [1.1, 0., 0.])],\n",
    "              cell=(10, 10, 10))\n",
    "atoms"
   ]
  },
  {
   "cell_type": "code",
   "execution_count": 7,
   "metadata": {
    "colab": {
     "base_uri": "https://localhost:8080/",
     "height": 34
    },
    "colab_type": "code",
    "executionInfo": {
     "elapsed": 267,
     "status": "ok",
     "timestamp": 1584912788529,
     "user": {
      "displayName": "John Kitchin",
      "photoUrl": "",
      "userId": "14782011281593705406"
     },
     "user_tz": 240
    },
    "id": "NeGczUaV0smY",
    "outputId": "161326c3-6b38-44d7-d8d4-80805d376533"
   },
   "outputs": [
    {
     "name": "stdout",
     "output_type": "stream",
     "text": [
      "V = 1000 Angstrom^3\n"
     ]
    }
   ],
   "source": [
    "print('V = {0:1.0f} Angstrom^3'.format(atoms.get_volume()))"
   ]
  },
  {
   "cell_type": "markdown",
   "metadata": {
    "colab_type": "text",
    "id": "-6Tft-saKqgA"
   },
   "source": [
    "We should take a look at our geometry. Colab does not support most the visualization tools ase provides. This is one approach to show a figure with the unit cell. You can see here that the atoms are at the corner of the unit cell."
   ]
  },
  {
   "cell_type": "code",
   "execution_count": 26,
   "metadata": {},
   "outputs": [],
   "source": [
    "class Plotter:\n",
    "    from ase_notebook import AseView, ViewConfig, get_example_atoms    \n",
    "    \n",
    "    def __init__(self, run_on_colab:bool):\n",
    "        self.run_on_colab = run_on_colab\n",
    "        \n",
    "        # simple config\n",
    "        # self.config = ViewConfig()\n",
    "        # self.ase_view = AseView(config)\n",
    "\n",
    "        # custom config\n",
    "        self.ase_view = AseView(\n",
    "            rotations=\"45x,45y,45z\",\n",
    "            atom_font_size=16,\n",
    "            axes_length=30,\n",
    "            canvas_size=(400, 400),\n",
    "            zoom=1.2,\n",
    "            show_bonds=True\n",
    "        )\n",
    "        self.ase_view.config.uc_dash_pattern=(.6,.4)\n",
    "        self.ase_view.add_miller_plane(\n",
    "            1, 0, 0, color=\"green\")\n",
    "        \n",
    "    def plot(self, atoms):\n",
    "        if not self.run_on_colab:\n",
    "            # 3D\n",
    "            self.ase_view.config.canvas_color_background = \"blue\"\n",
    "            self.ase_view.config.canvas_background_opacity = 0.2\n",
    "            gui = ase_view.make_render(\n",
    "                atoms, center_in_uc=True)\n",
    "            return gui\n",
    "        else:\n",
    "            # 2D with ase-notebook\n",
    "            self.ase_view.config.atom_show_label = True\n",
    "            self.ase_view.config.canvas_background_opacity = 0.0\n",
    "            svg = ase_view.make_svg(atoms, center_in_uc=True)\n",
    "            return svg\n",
    "\n",
    "            # 2D with ase + matplotlib\n",
    "            # import matplotlib.pyplot as plt\n",
    "            # from ase.visualize.plot import plot_atoms\n",
    "\n",
    "            # fig, ax = plt.subplots()\n",
    "            # plot_atoms(atoms, ax, rotation='45x,45y,45z')            "
   ]
  },
  {
   "cell_type": "code",
   "execution_count": 27,
   "metadata": {},
   "outputs": [],
   "source": [
    "plotter = Plotter(run_on_colab)"
   ]
  },
  {
   "cell_type": "code",
   "execution_count": 28,
   "metadata": {},
   "outputs": [
    {
     "data": {
      "application/vnd.jupyter.widget-view+json": {
       "model_id": "5ec8f866bb9c4c35ba0936015ca32b33",
       "version_major": 2,
       "version_minor": 0
      },
      "text/plain": [
       "GridspecLayout(children=(Renderer(camera=PerspectiveCamera(fov=10.0, position=(0.0, 0.0, 129.76954629492462), …"
      ]
     },
     "metadata": {},
     "output_type": "display_data"
    }
   ],
   "source": [
    "plotter.plot(atoms)"
   ]
  },
  {
   "cell_type": "code",
   "execution_count": 14,
   "metadata": {
    "colab": {
     "base_uri": "https://localhost:8080/",
     "height": 282
    },
    "colab_type": "code",
    "executionInfo": {
     "elapsed": 690,
     "status": "ok",
     "timestamp": 1584912885280,
     "user": {
      "displayName": "John Kitchin",
      "photoUrl": "",
      "userId": "14782011281593705406"
     },
     "user_tz": 240
    },
    "id": "PQIUFlWFloXu",
    "outputId": "728a6e1c-6717-4418-aa46-6681d5c7df1a"
   },
   "outputs": [
    {
     "data": {
      "text/plain": [
       "<matplotlib.axes._subplots.AxesSubplot at 0x7fa2ca8dcbe0>"
      ]
     },
     "execution_count": 14,
     "metadata": {
      "tags": []
     },
     "output_type": "execute_result"
    },
    {
     "data": {
      "image/png": "[encoded data removed]",
      "text/plain": [
       "<Figure size 432x288 with 1 Axes>"
      ]
     },
     "metadata": {
      "tags": []
     },
     "output_type": "display_data"
    }
   ],
   "source": [
    "import matplotlib.pyplot as plt\n",
    "from ase.visualize.plot import plot_atoms\n",
    "\n",
    "fig, ax = plt.subplots()\n",
    "plot_atoms(atoms, ax, rotation='45x,45y,45z')"
   ]
  },
  {
   "cell_type": "markdown",
   "metadata": {
    "colab_type": "text",
    "id": "t_OXuZMI0039"
   },
   "source": [
    "It is usually preferrable that the atoms are in the middle of the unit cell. We can define a face-centered cubic unit cell, and center the atoms in the middle of it."
   ]
  },
  {
   "cell_type": "code",
   "execution_count": 17,
   "metadata": {
    "colab": {
     "base_uri": "https://localhost:8080/",
     "height": 34
    },
    "colab_type": "code",
    "executionInfo": {
     "elapsed": 234,
     "status": "ok",
     "timestamp": 1584912992721,
     "user": {
      "displayName": "John Kitchin",
      "photoUrl": "",
      "userId": "14782011281593705406"
     },
     "user_tz": 240
    },
    "id": "MtaYYeBhs5oX",
    "outputId": "00eb3905-69b4-4f1c-bb47-14fd0cfcba70"
   },
   "outputs": [
    {
     "data": {
      "text/plain": [
       "Atoms(symbols='CO', pbc=False, cell=[[7.1, 7.1, 0.0], [7.1, 0.0, 7.1], [0.0, 7.1, 7.1]])"
      ]
     },
     "execution_count": 17,
     "metadata": {
      "tags": []
     },
     "output_type": "execute_result"
    }
   ],
   "source": [
    "b = 7.1\n",
    "atoms = Atoms([Atom('C', [0., 0., 0.]),\n",
    "               Atom('O', [1.1, 0., 0.])],\n",
    "              cell=[[b, b, 0.],\n",
    "                    [b, 0., b],\n",
    "                    [0., b, b]])\n",
    "\n",
    "atoms.center()  # translate atoms to center of unit cell\n",
    "atoms"
   ]
  },
  {
   "cell_type": "markdown",
   "metadata": {
    "colab_type": "text",
    "id": "CBgxWdSsLSew"
   },
   "source": [
    "In the next figure you can see the atoms are in the unit cell.  There is some interactivity that is lost with Colab; with the ase viewer you can rotate this around to see it from different angles."
   ]
  },
  {
   "cell_type": "code",
   "execution_count": 18,
   "metadata": {
    "colab": {
     "base_uri": "https://localhost:8080/",
     "height": 282
    },
    "colab_type": "code",
    "executionInfo": {
     "elapsed": 754,
     "status": "ok",
     "timestamp": 1584912994510,
     "user": {
      "displayName": "John Kitchin",
      "photoUrl": "",
      "userId": "14782011281593705406"
     },
     "user_tz": 240
    },
    "id": "_j3Xk1pu1ABv",
    "outputId": "1f9ecb33-0af9-4741-a3e1-8b5a8f6e2544"
   },
   "outputs": [
    {
     "data": {
      "text/plain": [
       "<matplotlib.axes._subplots.AxesSubplot at 0x7fa2c9b9a668>"
      ]
     },
     "execution_count": 18,
     "metadata": {
      "tags": []
     },
     "output_type": "execute_result"
    },
    {
     "data": {
      "image/png": "[encoded data removed]",
      "text/plain": [
       "<Figure size 432x288 with 1 Axes>"
      ]
     },
     "metadata": {
      "tags": []
     },
     "output_type": "display_data"
    }
   ],
   "source": [
    "fig, ax = plt.subplots()\n",
    "plot_atoms(atoms, ax, rotation='45x,45y,45z')"
   ]
  },
  {
   "cell_type": "markdown",
   "metadata": {
    "colab_type": "text",
    "id": "z5lT0g5ZLdyE"
   },
   "source": [
    "We can get the length of the unit cell vectors. Note it is not obvious what these are from the unit cell, but it is easy to calculate them."
   ]
  },
  {
   "cell_type": "code",
   "execution_count": 19,
   "metadata": {
    "colab": {
     "base_uri": "https://localhost:8080/",
     "height": 68
    },
    "colab_type": "code",
    "executionInfo": {
     "elapsed": 227,
     "status": "ok",
     "timestamp": 1584913061111,
     "user": {
      "displayName": "John Kitchin",
      "photoUrl": "",
      "userId": "14782011281593705406"
     },
     "user_tz": 240
    },
    "id": "t78Z9mZ6tMrf",
    "outputId": "0b61d9bb-695c-4e06-993a-927056ecd36c"
   },
   "outputs": [
    {
     "name": "stdout",
     "output_type": "stream",
     "text": [
      "|a1| = 10.04 Ang\n",
      "|a2| = 10.04 Ang\n",
      "|a3| = 10.04 Ang\n"
     ]
    }
   ],
   "source": [
    "import numpy as np\n",
    "\n",
    "# get unit cell vectors and their lengths\n",
    "(a1, a2, a3) = atoms.get_cell()\n",
    "print(f'|a1| = {np.linalg.norm(a1):1.2f} Ang')\n",
    "print(f'|a2| = {np.linalg.norm(a2):1.2f} Ang')\n",
    "print(f'|a3| = {np.linalg.norm(a3):1.2f} Ang')"
   ]
  },
  {
   "cell_type": "code",
   "execution_count": 21,
   "metadata": {
    "colab": {
     "base_uri": "https://localhost:8080/",
     "height": 34
    },
    "colab_type": "code",
    "executionInfo": {
     "elapsed": 186,
     "status": "ok",
     "timestamp": 1584913150696,
     "user": {
      "displayName": "John Kitchin",
      "photoUrl": "",
      "userId": "14782011281593705406"
     },
     "user_tz": 240
    },
    "id": "qTzu1QMcLoAc",
    "outputId": "db2be525-12dd-4d80-c3e1-41085049fd9c"
   },
   "outputs": [
    {
     "data": {
      "text/plain": [
       "array([10.04091629, 10.04091629, 10.04091629])"
      ]
     },
     "execution_count": 21,
     "metadata": {
      "tags": []
     },
     "output_type": "execute_result"
    }
   ],
   "source": [
    "# If you prefer a vectorized solution, we get the norm along the rows.\n",
    "np.linalg.norm(atoms.get_cell(), axis=0)"
   ]
  },
  {
   "cell_type": "markdown",
   "metadata": {
    "colab_type": "text",
    "id": "WcupJAU7toQh"
   },
   "source": [
    "# Reading other data formats into a calculation\n",
    "ase.io.read supports many different file formats (https://wiki.fysik.dtu.dk/ase/ase/io/io.html#ase.io.read):\n",
    "\n",
    "    Known formats:\n",
    "\n",
    "    =========================  ===========\n",
    "    format                     short name\n",
    "    =========================  ===========\n",
    "    GPAW restart-file          gpw\n",
    "    Dacapo netCDF output file  dacapo\n",
    "    Old ASE netCDF trajectory  nc\n",
    "    Virtual Nano Lab file      vnl\n",
    "    ASE pickle trajectory      traj\n",
    "    ASE bundle trajectory      bundle\n",
    "    GPAW text output           gpaw-text\n",
    "    CUBE file                  cube\n",
    "    XCrySDen Structure File    xsf\n",
    "    Dacapo text output         dacapo-text\n",
    "    XYZ-file                   xyz\n",
    "    VASP POSCAR/CONTCAR file   vasp\n",
    "    VASP OUTCAR file           vasp_out\n",
    "    SIESTA STRUCT file         struct_out\n",
    "    ABINIT input file          abinit\n",
    "    V_Sim ascii file           v_sim\n",
    "    Protein Data Bank          pdb\n",
    "    CIF-file                   cif\n",
    "    FHI-aims geometry file     aims\n",
    "    FHI-aims output file       aims_out\n",
    "    VTK XML Image Data         vti\n",
    "    VTK XML Structured Grid    vts\n",
    "    VTK XML Unstructured Grid  vtu\n",
    "    TURBOMOLE coord file       tmol\n",
    "    TURBOMOLE gradient file    tmol-gradient\n",
    "    exciting input             exi\n",
    "    AtomEye configuration      cfg\n",
    "    WIEN2k structure file      struct\n",
    "    DftbPlus input file        dftb\n",
    "    CASTEP geom file           cell\n",
    "    CASTEP output file         castep\n",
    "    CASTEP trajectory file     geom\n",
    "    ETSF format                etsf.nc\n",
    "    DFTBPlus GEN format        gen\n",
    "    CMR db/cmr-file            db\n",
    "    CMR db/cmr-file            cmr\n",
    "    LAMMPS dump file           lammps\n",
    "    Gromacs coordinates        gro\n",
    "    =========================  ===========\n",
    "\n",
    "You can read XYZ file format to create ase.Atoms objects. Here is what an XYZ file format might look like. First we download one."
   ]
  },
  {
   "cell_type": "code",
   "execution_count": 22,
   "metadata": {
    "colab": {
     "base_uri": "https://localhost:8080/",
     "height": 34
    },
    "colab_type": "code",
    "executionInfo": {
     "elapsed": 467,
     "status": "ok",
     "timestamp": 1584913178255,
     "user": {
      "displayName": "John Kitchin",
      "photoUrl": "",
      "userId": "14782011281593705406"
     },
     "user_tz": 240
    },
    "id": "GT0zyR1AtzOH",
    "outputId": "9c574cf9-213d-4711-b06c-164637646dbb"
   },
   "outputs": [
    {
     "data": {
      "text/plain": [
       "('isobutane.xyz', <http.client.HTTPMessage at 0x7fa2c97f6278>)"
      ]
     },
     "execution_count": 22,
     "metadata": {
      "tags": []
     },
     "output_type": "execute_result"
    }
   ],
   "source": [
    "import urllib.request\n",
    "urllib.request.urlretrieve('https://raw.githubusercontent.com/jkitchin/dft-book/master/molecules/isobutane.xyz',\n",
    "                           'isobutane.xyz')"
   ]
  },
  {
   "cell_type": "code",
   "execution_count": 28,
   "metadata": {
    "colab": {
     "base_uri": "https://localhost:8080/",
     "height": 34
    },
    "colab_type": "code",
    "executionInfo": {
     "elapsed": 214,
     "status": "ok",
     "timestamp": 1584913243160,
     "user": {
      "displayName": "John Kitchin",
      "photoUrl": "",
      "userId": "14782011281593705406"
     },
     "user_tz": 240
    },
    "id": "xybwo_P3ucTb",
    "outputId": "134ec036-c54d-427d-9d64-1a017bde7daf"
   },
   "outputs": [
    {
     "data": {
      "text/plain": [
       "Cell([0.0, 0.0, 0.0])"
      ]
     },
     "execution_count": 28,
     "metadata": {
      "tags": []
     },
     "output_type": "execute_result"
    }
   ],
   "source": [
    "from ase.io import read\n",
    "\n",
    "atoms = read('isobutane.xyz')\n",
    "atoms.get_cell()"
   ]
  },
  {
   "cell_type": "markdown",
   "metadata": {
    "colab_type": "text",
    "id": "Tz-fp9RJMO1z"
   },
   "source": [
    "Note that if you just read it, there is basically no unit cell defined."
   ]
  },
  {
   "cell_type": "code",
   "execution_count": 26,
   "metadata": {
    "colab": {
     "base_uri": "https://localhost:8080/",
     "height": 282
    },
    "colab_type": "code",
    "executionInfo": {
     "elapsed": 335,
     "status": "ok",
     "timestamp": 1584913194342,
     "user": {
      "displayName": "John Kitchin",
      "photoUrl": "",
      "userId": "14782011281593705406"
     },
     "user_tz": 240
    },
    "id": "oSux8gZGupdP",
    "outputId": "16c09180-1768-46ab-d52f-31a39bca1dd3"
   },
   "outputs": [
    {
     "data": {
      "text/plain": [
       "<matplotlib.axes._subplots.AxesSubplot at 0x7fa2c7162eb8>"
      ]
     },
     "execution_count": 26,
     "metadata": {
      "tags": []
     },
     "output_type": "execute_result"
    },
    {
     "data": {
      "image/png": "[encoded data removed]",
      "text/plain": [
       "<Figure size 432x288 with 1 Axes>"
      ]
     },
     "metadata": {
      "tags": []
     },
     "output_type": "display_data"
    }
   ],
   "source": [
    "fig, ax = plt.subplots()\n",
    "plot_atoms(atoms, ax, rotation='45x,45y,45z')"
   ]
  },
  {
   "cell_type": "markdown",
   "metadata": {
    "colab_type": "text",
    "id": "uXao_XImMUag"
   },
   "source": [
    "We need to define a unit cell. One way to do this is to center the atoms with vacuum surrounding it."
   ]
  },
  {
   "cell_type": "code",
   "execution_count": 27,
   "metadata": {
    "colab": {
     "base_uri": "https://localhost:8080/",
     "height": 282
    },
    "colab_type": "code",
    "executionInfo": {
     "elapsed": 844,
     "status": "ok",
     "timestamp": 1584913224787,
     "user": {
      "displayName": "John Kitchin",
      "photoUrl": "",
      "userId": "14782011281593705406"
     },
     "user_tz": 240
    },
    "id": "bHSAZ6_CMGT5",
    "outputId": "4bb642ee-91a0-4133-c9ad-232db4184837"
   },
   "outputs": [
    {
     "data": {
      "text/plain": [
       "<matplotlib.axes._subplots.AxesSubplot at 0x7fa2c70d6080>"
      ]
     },
     "execution_count": 27,
     "metadata": {
      "tags": []
     },
     "output_type": "execute_result"
    },
    {
     "data": {
      "image/png": "[encoded data removed]",
      "text/plain": [
       "<Figure size 432x288 with 1 Axes>"
      ]
     },
     "metadata": {
      "tags": []
     },
     "output_type": "display_data"
    }
   ],
   "source": [
    "atoms.center(vacuum=5)\n",
    "fig, ax = plt.subplots()\n",
    "plot_atoms(atoms, ax, rotation='45x,45y,45z')"
   ]
  },
  {
   "cell_type": "markdown",
   "metadata": {
    "colab_type": "text",
    "id": "aBCkLWMKNKdB"
   },
   "source": [
    "Now you have an isobutane in the center of the unit cell."
   ]
  },
  {
   "cell_type": "markdown",
   "metadata": {
    "colab_type": "text",
    "id": "c_Pgk9jKuvFP"
   },
   "source": [
    "# Predefined molecules\n",
    "`ase` defines a number of molecular geometries in the `ase.data.molecules` database. For example, the database includes the molecules in the G2/97 database. This database contains a broad set of atoms and molecules for which good experimental data exists, making them useful for benchmarking studies. See this site for the original files.\n",
    "\n",
    "The coordinates for the atoms in the database are MP2(full)/6-31G(d) optimized geometries. Here is a list of all the species available in `ase.data.g2`. You may be interested in reading about some of the other databases in `ase.data` too."
   ]
  },
  {
   "cell_type": "code",
   "execution_count": null,
   "metadata": {
    "colab": {
     "base_uri": "https://localhost:8080/",
     "height": 935
    },
    "colab_type": "code",
    "executionInfo": {
     "elapsed": 351,
     "status": "ok",
     "timestamp": 1584821726646,
     "user": {
      "displayName": "John Kitchin",
      "photoUrl": "",
      "userId": "14782011281593705406"
     },
     "user_tz": 240
    },
    "id": "JFeeoYmbuqSd",
    "outputId": "17576913-5af2-410f-f349-f3ca4513b901"
   },
   "outputs": [
    {
     "name": "stdout",
     "output_type": "stream",
     "text": [
      "Be                       BeH                      C                        \n",
      "C2H2                     C2H4                     C2H6                     \n",
      "CH                       CH2_s1A1d                CH2_s3B1d                \n",
      "CH3                      CH3Cl                    CH3OH                    \n",
      "CH3SH                    CH4                      CN                       \n",
      "CO                       CO2                      CS                       \n",
      "Cl                       Cl2                      ClF                      \n",
      "ClO                      F                        F2                       \n",
      "H                        H2CO                     H2O                      \n",
      "H2O2                     HCN                      HCO                      \n",
      "HCl                      HF                       HOCl                     \n",
      "Li                       Li2                      LiF                      \n",
      "LiH                      N                        N2                       \n",
      "N2H4                     NH                       NH2                      \n",
      "NH3                      NO                       Na                       \n",
      "Na2                      NaCl                     O                        \n",
      "O2                       OH                       P                        \n",
      "P2                       PH2                      PH3                      \n",
      "S                        S2                       SH2                      \n",
      "SO                       SO2                      Si                       \n",
      "Si2                      Si2H6                    SiH2_s1A1d               \n",
      "SiH2_s3B1d               SiH3                     SiH4                     \n",
      "SiO                      2-butyne                 Al                       \n",
      "AlCl3                    AlF3                     B                        \n",
      "BCl3                     BF3                      C2Cl4                    \n",
      "C2F4                     C2H3                     C2H5                     \n",
      "C2H6CHOH                 C2H6NH                   C2H6SO                   \n",
      "C3H4_C2v                 C3H4_C3v                 C3H4_D2d                 \n",
      "C3H6_Cs                  C3H6_D3h                 C3H7                     \n",
      "C3H7Cl                   C3H8                     C3H9C                    \n",
      "C3H9N                    C4H4NH                   C4H4O                    \n",
      "C4H4S                    C5H5N                    C5H8                     \n",
      "C6H6                     CCH                      CCl4                     \n",
      "CF3CN                    CF4                      CH2NHCH2                 \n",
      "CH2OCH2                  CH2SCH2                  CH3CH2Cl                 \n",
      "CH3CH2NH2                CH3CH2O                  CH3CH2OCH3               \n",
      "CH3CH2OH                 CH3CH2SH                 CH3CHO                   \n",
      "CH3CN                    CH3CO                    CH3COCH3                 \n",
      "CH3COCl                  CH3COF                   CH3CONH2                 \n",
      "CH3COOH                  CH3NO2                   CH3O                     \n",
      "CH3OCH3                  CH3ONO                   CH3S                     \n",
      "CH3SCH3                  CH3SiH3                  COF2                     \n",
      "CS2                      ClF3                     ClNO                     \n",
      "F2O                      H2                       H2CCHCN                  \n",
      "H2CCHCl                  H2CCHF                   H2CCO                    \n",
      "H2CCl2                   H2CF2                    H2COH                    \n",
      "H3CNH2                   HCCl3                    HCF3                     \n",
      "HCOOCH3                  HCOOH                    N2O                      \n",
      "NCCN                     NF3                      NO2                      \n",
      "O3                       OCHCHO                   OCS                      \n",
      "PF3                      SH                       SiCl4                    \n",
      "SiF4                     bicyclobutane            butadiene                \n",
      "cyclobutane              cyclobutene              isobutane                \n",
      "isobutene                methylenecyclopropane    trans-butane             \n"
     ]
    }
   ],
   "source": [
    "from ase.data import g2\n",
    "keys = list(g2.data.keys())\n",
    "# print in 3 columns\n",
    "for i in range(len(keys) // 3):\n",
    "    print('{0:25s}{1:25s}{2:25s}'.format(*tuple(keys[i * 3: i * 3 + 3])))\n"
   ]
  },
  {
   "cell_type": "markdown",
   "metadata": {
    "colab_type": "text",
    "id": "6vJPlirRvMXF"
   },
   "source": [
    "Here is an example of reading one of these."
   ]
  },
  {
   "cell_type": "code",
   "execution_count": 31,
   "metadata": {
    "colab": {
     "base_uri": "https://localhost:8080/",
     "height": 282
    },
    "colab_type": "code",
    "executionInfo": {
     "elapsed": 1853,
     "status": "ok",
     "timestamp": 1584913890432,
     "user": {
      "displayName": "John Kitchin",
      "photoUrl": "",
      "userId": "14782011281593705406"
     },
     "user_tz": 240
    },
    "id": "831r16x2vW6v",
    "outputId": "5c1f6aa8-38b9-43ae-f523-59ed0e978723"
   },
   "outputs": [
    {
     "name": "stdout",
     "output_type": "stream",
     "text": [
      "unit cell: Cell([13.775328, 13.537479, 15.014576])\n"
     ]
    },
    {
     "data": {
      "image/png": "[encoded data removed]",
      "text/plain": [
       "<Figure size 432x288 with 1 Axes>"
      ]
     },
     "metadata": {
      "tags": []
     },
     "output_type": "display_data"
    }
   ],
   "source": [
    "from ase.build import molecule\n",
    "\n",
    "atoms = molecule('CH3CN')\n",
    "\n",
    "atoms.center(vacuum=6)\n",
    "print(f'unit cell: {atoms.get_cell()}')\n",
    "\n",
    "fig, ax = plt.subplots()\n",
    "plot_atoms(atoms, ax, rotation='45x,45y,45z');"
   ]
  },
  {
   "cell_type": "markdown",
   "metadata": {
    "colab_type": "text",
    "id": "3H62cHDOvlmB"
   },
   "source": [
    "# Combining Atoms objects\n",
    "It is frequently useful to combine two Atoms objects, e.g. for computing reaction barriers, or other types of interactions. In ase, we simply add two Atoms objects together. Here is an example of getting an ammonia and oxygen molecule in the same unit cell. See Figure fig:combined-atoms. We set the Atoms about three Å apart using the ase.Atoms.translate function."
   ]
  },
  {
   "cell_type": "code",
   "execution_count": 33,
   "metadata": {
    "colab": {
     "base_uri": "https://localhost:8080/",
     "height": 265
    },
    "colab_type": "code",
    "executionInfo": {
     "elapsed": 830,
     "status": "ok",
     "timestamp": 1584913908993,
     "user": {
      "displayName": "John Kitchin",
      "photoUrl": "",
      "userId": "14782011281593705406"
     },
     "user_tz": 240
    },
    "id": "5rCemlhBvTDR",
    "outputId": "b8c3e39e-01cf-4193-a2ad-e20c91221abf"
   },
   "outputs": [
    {
     "data": {
      "image/png": "[encoded data removed]",
      "text/plain": [
       "<Figure size 432x288 with 1 Axes>"
      ]
     },
     "metadata": {
      "tags": []
     },
     "output_type": "display_data"
    }
   ],
   "source": [
    "from ase.structure import molecule\n",
    "from ase.io import write\n",
    "\n",
    "atoms1 = molecule('NH3')\n",
    "\n",
    "atoms2 = molecule('O2')\n",
    "atoms2.translate([3, 0, 0])\n",
    "\n",
    "bothatoms = atoms1 + atoms2\n",
    "bothatoms.center(5)\n",
    "\n",
    "fig, ax = plt.subplots()\n",
    "plot_atoms(bothatoms, ax, rotation='45x,45y,45z');"
   ]
  },
  {
   "cell_type": "code",
   "execution_count": null,
   "metadata": {
    "colab": {},
    "colab_type": "code",
    "id": "T5r09834vtI_"
   },
   "outputs": [],
   "source": []
  },
  {
   "cell_type": "markdown",
   "metadata": {
    "colab_type": "text",
    "id": "Rfiym5DGv5iY"
   },
   "source": [
    "# Simple properties\n",
    "Simple properties do not require a DFT calculation. They are typically only functions of the atom types and geometries.\n",
    "\n",
    "## Getting cartesian positions\n",
    "If you want the (x,y,z) coordinates of the atoms, use the ase.Atoms.get_positions. If you are interested in the fractional coordinates, use ase.Atoms.get_scaled_positions."
   ]
  },
  {
   "cell_type": "code",
   "execution_count": 38,
   "metadata": {
    "colab": {
     "base_uri": "https://localhost:8080/",
     "height": 421
    },
    "colab_type": "code",
    "executionInfo": {
     "elapsed": 251,
     "status": "ok",
     "timestamp": 1584914168826,
     "user": {
      "displayName": "John Kitchin",
      "photoUrl": "",
      "userId": "14782011281593705406"
     },
     "user_tz": 240
    },
    "id": "JbGteOEMwBJ5",
    "outputId": "587e320a-80e8-41bf-8a7b-4d327838fdd3"
   },
   "outputs": [
    {
     "data": {
      "text/html": [
       "<div>\n",
       "<style scoped>\n",
       "    .dataframe tbody tr th:only-of-type {\n",
       "        vertical-align: middle;\n",
       "    }\n",
       "\n",
       "    .dataframe tbody tr th {\n",
       "        vertical-align: top;\n",
       "    }\n",
       "\n",
       "    .dataframe thead th {\n",
       "        text-align: right;\n",
       "    }\n",
       "</style>\n",
       "<table border=\"1\" class=\"dataframe\">\n",
       "  <thead>\n",
       "    <tr style=\"text-align: right;\">\n",
       "      <th></th>\n",
       "      <th>sym</th>\n",
       "      <th>p_x</th>\n",
       "      <th>p_y</th>\n",
       "      <th>p_z</th>\n",
       "    </tr>\n",
       "  </thead>\n",
       "  <tbody>\n",
       "    <tr>\n",
       "      <th>0</th>\n",
       "      <td>C</td>\n",
       "      <td>0.000000</td>\n",
       "      <td>1.395248</td>\n",
       "      <td>0.0</td>\n",
       "    </tr>\n",
       "    <tr>\n",
       "      <th>1</th>\n",
       "      <td>C</td>\n",
       "      <td>1.208320</td>\n",
       "      <td>0.697624</td>\n",
       "      <td>0.0</td>\n",
       "    </tr>\n",
       "    <tr>\n",
       "      <th>2</th>\n",
       "      <td>C</td>\n",
       "      <td>1.208320</td>\n",
       "      <td>-0.697624</td>\n",
       "      <td>0.0</td>\n",
       "    </tr>\n",
       "    <tr>\n",
       "      <th>3</th>\n",
       "      <td>C</td>\n",
       "      <td>0.000000</td>\n",
       "      <td>-1.395248</td>\n",
       "      <td>0.0</td>\n",
       "    </tr>\n",
       "    <tr>\n",
       "      <th>4</th>\n",
       "      <td>C</td>\n",
       "      <td>-1.208320</td>\n",
       "      <td>-0.697624</td>\n",
       "      <td>0.0</td>\n",
       "    </tr>\n",
       "    <tr>\n",
       "      <th>5</th>\n",
       "      <td>C</td>\n",
       "      <td>-1.208320</td>\n",
       "      <td>0.697624</td>\n",
       "      <td>0.0</td>\n",
       "    </tr>\n",
       "    <tr>\n",
       "      <th>6</th>\n",
       "      <td>H</td>\n",
       "      <td>0.000000</td>\n",
       "      <td>2.482360</td>\n",
       "      <td>0.0</td>\n",
       "    </tr>\n",
       "    <tr>\n",
       "      <th>7</th>\n",
       "      <td>H</td>\n",
       "      <td>2.149787</td>\n",
       "      <td>1.241180</td>\n",
       "      <td>0.0</td>\n",
       "    </tr>\n",
       "    <tr>\n",
       "      <th>8</th>\n",
       "      <td>H</td>\n",
       "      <td>2.149787</td>\n",
       "      <td>-1.241180</td>\n",
       "      <td>0.0</td>\n",
       "    </tr>\n",
       "    <tr>\n",
       "      <th>9</th>\n",
       "      <td>H</td>\n",
       "      <td>0.000000</td>\n",
       "      <td>-2.482360</td>\n",
       "      <td>0.0</td>\n",
       "    </tr>\n",
       "    <tr>\n",
       "      <th>10</th>\n",
       "      <td>H</td>\n",
       "      <td>-2.149787</td>\n",
       "      <td>-1.241180</td>\n",
       "      <td>0.0</td>\n",
       "    </tr>\n",
       "    <tr>\n",
       "      <th>11</th>\n",
       "      <td>H</td>\n",
       "      <td>-2.149787</td>\n",
       "      <td>1.241180</td>\n",
       "      <td>0.0</td>\n",
       "    </tr>\n",
       "  </tbody>\n",
       "</table>\n",
       "</div>"
      ],
      "text/plain": [
       "   sym       p_x       p_y  p_z\n",
       "0    C  0.000000  1.395248  0.0\n",
       "1    C  1.208320  0.697624  0.0\n",
       "2    C  1.208320 -0.697624  0.0\n",
       "3    C  0.000000 -1.395248  0.0\n",
       "4    C -1.208320 -0.697624  0.0\n",
       "5    C -1.208320  0.697624  0.0\n",
       "6    H  0.000000  2.482360  0.0\n",
       "7    H  2.149787  1.241180  0.0\n",
       "8    H  2.149787 -1.241180  0.0\n",
       "9    H  0.000000 -2.482360  0.0\n",
       "10   H -2.149787 -1.241180  0.0\n",
       "11   H -2.149787  1.241180  0.0"
      ]
     },
     "execution_count": 38,
     "metadata": {
      "tags": []
     },
     "output_type": "execute_result"
    }
   ],
   "source": [
    "from ase.structure import molecule\n",
    "\n",
    "atoms = molecule('C6H6')  # benzene\n",
    "\n",
    "# We use a dataframe just because it is easy to print in a notebook\n",
    "data = [[atom.symbol, atom.x, atom.y, atom.z] for atom in atoms]\n",
    "import pandas as pd\n",
    "pd.DataFrame(data, columns=['sym', 'p_x', 'p_y', 'p_z'])"
   ]
  },
  {
   "cell_type": "code",
   "execution_count": null,
   "metadata": {
    "colab": {
     "base_uri": "https://localhost:8080/",
     "height": 272
    },
    "colab_type": "code",
    "executionInfo": {
     "elapsed": 329,
     "status": "ok",
     "timestamp": 1584822066502,
     "user": {
      "displayName": "John Kitchin",
      "photoUrl": "",
      "userId": "14782011281593705406"
     },
     "user_tz": 240
    },
    "id": "4ngHbsFHwQ3v",
    "outputId": "7d12e700-d5e7-42e8-972d-4357a549e6ba"
   },
   "outputs": [
    {
     "name": "stdout",
     "output_type": "stream",
     "text": [
      "\n",
      "  # sym    at#    p_x     p_y     p_z\n",
      "-------------------------------------\n",
      "  0  C       6    0.00    1.40    0.00\n",
      "  1  C       6    1.21    0.70    0.00\n",
      "  2  C       6    1.21   -0.70    0.00\n",
      "  3  C       6    0.00   -1.40    0.00\n",
      "  4  C       6   -1.21   -0.70    0.00\n",
      "  5  C       6   -1.21    0.70    0.00\n",
      "  6  H       1    0.00    2.48    0.00\n",
      "  7  H       1    2.15    1.24    0.00\n",
      "  8  H       1    2.15   -1.24    0.00\n",
      "  9  H       1    0.00   -2.48    0.00\n",
      " 10  H       1   -2.15   -1.24    0.00\n",
      " 11  H       1   -2.15    1.24    0.00\n"
     ]
    }
   ],
   "source": [
    "# Here is a more old-fashioned way to print the properties\n",
    "# get all properties in arrays\n",
    "sym = atoms.get_chemical_symbols()\n",
    "pos = atoms.get_positions()\n",
    "num = atoms.get_atomic_numbers()\n",
    "\n",
    "atom_indices = range(len(atoms))\n",
    "\n",
    "print()\n",
    "print('  # sym    at#    p_x     p_y     p_z')\n",
    "print('-------------------------------------')\n",
    "for i, s, n, p in zip(atom_indices, sym, num, pos):\n",
    "    px, py, pz = p\n",
    "    print(f'{i:3d}{s:>3s}{n:8d}{px:-8.2f}{py:-8.2f}{pz:-8.2f}')"
   ]
  },
  {
   "cell_type": "markdown",
   "metadata": {
    "colab_type": "text",
    "id": "vDQl49Y-wdWN"
   },
   "source": [
    "## Molecular weight and molecular formula\n",
    "molecular weight We can quickly compute the molecular weight of a molecule with this recipe. We use ase.Atoms.get_masses to get an array of the atomic masses of each atom in the Atoms object, and then just sum them up.\n",
    "\n",
    "Note that the argument reduce=True for ase.Atoms.get_chemical_formula collects all the symbols to provide a molecular formula."
   ]
  },
  {
   "cell_type": "code",
   "execution_count": 40,
   "metadata": {
    "colab": {
     "base_uri": "https://localhost:8080/",
     "height": 34
    },
    "colab_type": "code",
    "executionInfo": {
     "elapsed": 203,
     "status": "ok",
     "timestamp": 1584914280219,
     "user": {
      "displayName": "John Kitchin",
      "photoUrl": "",
      "userId": "14782011281593705406"
     },
     "user_tz": 240
    },
    "id": "HhGzrMWFwfPO",
    "outputId": "1d1d0e09-af08-4f16-d611-755fa43646fd"
   },
   "outputs": [
    {
     "name": "stdout",
     "output_type": "stream",
     "text": [
      "The molecular weight of C6H6 is 78.11 gm/mol.\n"
     ]
    }
   ],
   "source": [
    "atoms = molecule('C6H6')\n",
    "masses = atoms.get_masses()\n",
    "\n",
    "molecular_weight = masses.sum()\n",
    "molecular_formula = atoms.get_chemical_formula(mode='reduce')\n",
    "\n",
    "# note use of two lines to keep length of line reasonable\n",
    "s = f'The molecular weight of {molecular_formula} is {molecular_weight:1.2f} gm/mol.'\n",
    "print(s)"
   ]
  },
  {
   "cell_type": "markdown",
   "metadata": {
    "colab_type": "text",
    "id": "06Cl1hzlwqA9"
   },
   "source": [
    "center of mass The center of mass (COM) is defined as:\n",
    "\n",
    "COM = $\\frac{\\sum m_i \\cdot r_i}{m_i}$\n",
    "\n",
    "The center of mass is essentially the average position of the atoms, weighted by the mass of each atom. Here is an example of getting the center of mass from an Atoms object using `ase.Atoms.get_center_of_mass`. Here we show three ways to compute this quantity."
   ]
  },
  {
   "cell_type": "code",
   "execution_count": 41,
   "metadata": {
    "colab": {
     "base_uri": "https://localhost:8080/",
     "height": 68
    },
    "colab_type": "code",
    "executionInfo": {
     "elapsed": 186,
     "status": "ok",
     "timestamp": 1584914286029,
     "user": {
      "displayName": "John Kitchin",
      "photoUrl": "",
      "userId": "14782011281593705406"
     },
     "user_tz": 240
    },
    "id": "IyBzqYFUwjtF",
    "outputId": "3587adf6-b8e0-485c-a6ef-15215998b0c1"
   },
   "outputs": [
    {
     "name": "stdout",
     "output_type": "stream",
     "text": [
      "COM1 = [0.00000000e+00 5.91861899e-08 4.75435401e-02]\n",
      "COM2 = [0.00000000e+00 5.91861899e-08 4.75435401e-02]\n",
      "COM3 = [0.00000000e+00 5.91861899e-08 4.75435401e-02]\n"
     ]
    }
   ],
   "source": [
    "# ammonia\n",
    "atoms = molecule('NH3')\n",
    "\n",
    "# cartesian coordinates\n",
    "print(f'COM1 = {atoms.get_center_of_mass()}')\n",
    "\n",
    "# compute the center of mass by hand\n",
    "pos = atoms.positions\n",
    "masses = atoms.get_masses()\n",
    "\n",
    "COM = np.array([0., 0., 0.])\n",
    "for m, p in zip(masses, pos):\n",
    "    COM += m*p\n",
    "COM /= masses.sum()\n",
    "\n",
    "print(f'COM2 = {COM}'.format(COM))\n",
    "\n",
    "# one-line linear algebra definition of COM\n",
    "print(f'COM3 = {np.dot(masses, pos) / np.sum(masses)}')"
   ]
  },
  {
   "cell_type": "markdown",
   "metadata": {
    "colab_type": "text",
    "id": "Gj24c-T9xQg4"
   },
   "source": [
    "## Moments of inertia\n",
    "The moment of inertia is a measure of resistance to changes in rotation. It is defined by \n",
    "$I=\\sum_{i=1}^N m_i r_i^2$ where $r_i$ is the distance to an axis of rotation. There are typically three moments of inertia, although some may be zero depending on symmetry, and others may be degenerate. There is a convenient function to get the moments of inertia: `ase.Atoms.get_moments_of_inertia`. Here are several examples of molecules with different types of symmetry.:"
   ]
  },
  {
   "cell_type": "code",
   "execution_count": null,
   "metadata": {
    "colab": {
     "base_uri": "https://localhost:8080/",
     "height": 272
    },
    "colab_type": "code",
    "executionInfo": {
     "elapsed": 355,
     "status": "ok",
     "timestamp": 1584822315871,
     "user": {
      "displayName": "John Kitchin",
      "photoUrl": "",
      "userId": "14782011281593705406"
     },
     "user_tz": 240
    },
    "id": "qv6ZXPuLxTpk",
    "outputId": "6734cd65-f986-4184-8c8a-334a440d2f3d"
   },
   "outputs": [
    {
     "name": "stdout",
     "output_type": "stream",
     "text": [
      "linear rotors: I = [0 Ia Ia]\n",
      "  CO2 moments of inertia: [ 0.         44.45273132 44.45273132]\n",
      "\n",
      "symmetric rotors (Ia = Ib) < Ic\n",
      "  NH3 moments of inertia: [1.71022353 1.71022474 2.67047664]\n",
      "  C6H6 moments of inertia: [ 88.78025559  88.78027717 177.56053276]\n",
      "\n",
      "symmetric rotors Ia < (Ib = Ic)\n",
      "CH3Cl moments of inertia: [ 3.2039126  37.969823   37.96982492]\n",
      "\n",
      "spherical rotors Ia = Ib = Ic\n",
      "  CH4 moments of inertia: [3.19164619 3.19164619 3.19164619]\n",
      "\n",
      "unsymmetric rotors Ia != Ib != Ic\n",
      "  C3H7Cl moments of inertia: [ 19.41420447 213.18480664 223.1578698 ]\n"
     ]
    }
   ],
   "source": [
    "from ase.structure import molecule\n",
    "\n",
    "print('linear rotors: I = [0 Ia Ia]')\n",
    "atoms = molecule('CO2')\n",
    "print('  CO2 moments of inertia: {}'.format(atoms.get_moments_of_inertia()))\n",
    "print('')\n",
    "\n",
    "print('symmetric rotors (Ia = Ib) < Ic')\n",
    "atoms = molecule('NH3')\n",
    "print('  NH3 moments of inertia: {}'.format(atoms.get_moments_of_inertia()))\n",
    "\n",
    "atoms = molecule('C6H6')\n",
    "print('  C6H6 moments of inertia: {}'.format(atoms.get_moments_of_inertia()))\n",
    "print('')\n",
    "\n",
    "print('symmetric rotors Ia < (Ib = Ic)')\n",
    "atoms = molecule('CH3Cl')\n",
    "print('CH3Cl moments of inertia: {}'.format(atoms.get_moments_of_inertia()))\n",
    "print('')\n",
    "\n",
    "print('spherical rotors Ia = Ib = Ic')\n",
    "atoms = molecule('CH4')\n",
    "print('  CH4 moments of inertia: {}'.format(atoms.get_moments_of_inertia()))\n",
    "print('')\n",
    "\n",
    "print('unsymmetric rotors Ia != Ib != Ic')\n",
    "atoms = molecule('C3H7Cl')\n",
    "print('  C3H7Cl moments of inertia: {}'.format(atoms.get_moments_of_inertia()))"
   ]
  },
  {
   "cell_type": "markdown",
   "metadata": {
    "colab_type": "text",
    "id": "5J8wP6XNxXDu"
   },
   "source": [
    "If you want to know the principle axes of rotation, we simply pass `vectors=True` to the function, and it returns the moments of inertia and the principle axes."
   ]
  },
  {
   "cell_type": "code",
   "execution_count": null,
   "metadata": {
    "colab": {
     "base_uri": "https://localhost:8080/",
     "height": 85
    },
    "colab_type": "code",
    "executionInfo": {
     "elapsed": 312,
     "status": "ok",
     "timestamp": 1584822337923,
     "user": {
      "displayName": "John Kitchin",
      "photoUrl": "",
      "userId": "14782011281593705406"
     },
     "user_tz": 240
    },
    "id": "f7DvctbPxWmv",
    "outputId": "c76d0155-7efa-4d2b-86ab-c8beda6fffe5"
   },
   "outputs": [
    {
     "name": "stdout",
     "output_type": "stream",
     "text": [
      "Moments = [ 3.2039126  37.969823   37.96982492]\n",
      "axes = [[0. 0. 1.]\n",
      " [0. 1. 0.]\n",
      " [1. 0. 0.]]\n"
     ]
    }
   ],
   "source": [
    "atoms = molecule('CH3Cl')\n",
    "moments, axes = atoms.get_moments_of_inertia(vectors=True)\n",
    "print('Moments = {0}'.format(moments))\n",
    "print('axes = {0}'.format(axes))"
   ]
  },
  {
   "cell_type": "markdown",
   "metadata": {
    "colab_type": "text",
    "id": "YfXZZ90UxeuI"
   },
   "source": [
    "This shows the first moment is about the z-axis, the second moment is about the y-axis, and the third moment is about the x-axis.\n",
    "\n",
    "## Computing bond lengths and angles\n",
    "A typical question we might ask is, \"What is the structure of a molecule?\" In other words, what are the bond lengths, angles between bonds, and similar properties. The Atoms object contains an `ase.Atoms.get_distance` method to make this easy. To calculate the distance between two atoms, you have to specify their indices, remembering that the index starts at 0."
   ]
  },
  {
   "cell_type": "code",
   "execution_count": null,
   "metadata": {
    "colab": {
     "base_uri": "https://localhost:8080/",
     "height": 136
    },
    "colab_type": "code",
    "executionInfo": {
     "elapsed": 336,
     "status": "ok",
     "timestamp": 1584822380905,
     "user": {
      "displayName": "John Kitchin",
      "photoUrl": "",
      "userId": "14782011281593705406"
     },
     "user_tz": 240
    },
    "id": "9phXcoqIxcAM",
    "outputId": "53490616-20ac-456b-a847-24c9b9914034"
   },
   "outputs": [
    {
     "name": "stdout",
     "output_type": "stream",
     "text": [
      "atom symbol\n",
      "===========\n",
      " 0 N  \n",
      " 1 H  \n",
      " 2 H  \n",
      " 3 H  \n",
      "The N-H distance is 1.017 angstroms\n"
     ]
    }
   ],
   "source": [
    "# ammonia\n",
    "atoms = molecule('NH3')\n",
    "\n",
    "print('atom symbol')\n",
    "print('===========')\n",
    "for i, atom in enumerate(atoms):\n",
    "    print('{0:2d} {1:3s}' .format(i, atom.symbol))\n",
    "\n",
    "# N-H bond length\n",
    "s = 'The N-H distance is {0:1.3f} angstroms'\n",
    "print(s.format(atoms.get_distance(0, 1)))"
   ]
  },
  {
   "cell_type": "markdown",
   "metadata": {
    "colab_type": "text",
    "id": "tGHnWBvCxo6U"
   },
   "source": [
    "Bond angles are a little trickier. If we had vectors describing the directions between two atoms, we could use some simple trigonometry to compute the angle between the vectors: $\\vec{a} \\cdot \\vec{b} = |\\vec{a}||\\vec{b}| \\cos(\\theta)$.  So we can calculate the angle as $\\theta = \\arccos\\left(\\frac{\\vec{a} \\cdot \\vec{b}}{|\\vec{a}||\\vec{b}|}\\right)$, we just have to define our two vectors $\\vec{a}$ and $\\vec{b}$. We compute these vectors as the difference in positions of two atoms. For example, here we compute the angle H-N-H in an ammonia molecule. This is the angle between N-H$_1$ and N-H$_2$. In the next example, we utilize functions in mod:numpy to perform the calculations, specifically the `numpy.arccos` function, the `numpy.dot` function, and `numpy.linalg.norm` functions."
   ]
  },
  {
   "cell_type": "code",
   "execution_count": null,
   "metadata": {
    "colab": {
     "base_uri": "https://localhost:8080/",
     "height": 136
    },
    "colab_type": "code",
    "executionInfo": {
     "elapsed": 305,
     "status": "ok",
     "timestamp": 1584822415242,
     "user": {
      "displayName": "John Kitchin",
      "photoUrl": "",
      "userId": "14782011281593705406"
     },
     "user_tz": 240
    },
    "id": "vyi2PQuDxmfO",
    "outputId": "73d83e4c-b3d0-43aa-9933-a5f1b6153ab2"
   },
   "outputs": [
    {
     "name": "stdout",
     "output_type": "stream",
     "text": [
      "atom symbol\n",
      "===========\n",
      " 0 N  \n",
      " 1 H  \n",
      " 2 H  \n",
      " 3 H  \n",
      "theta = 106.3 degrees\n"
     ]
    }
   ],
   "source": [
    "from ase.structure import molecule\n",
    "\n",
    "# ammonia\n",
    "atoms = molecule('NH3')\n",
    "\n",
    "print('atom symbol')\n",
    "print('===========')\n",
    "for i, atom in enumerate(atoms):\n",
    "    print('{0:2d} {1:3s}'.format(i, atom.symbol))\n",
    "\n",
    "a = atoms.positions[0] - atoms.positions[1]\n",
    "b = atoms.positions[0] - atoms.positions[2]\n",
    "\n",
    "from numpy import arccos, dot, pi\n",
    "from numpy.linalg import norm\n",
    "\n",
    "theta_rad = arccos(dot(a, b) / (norm(a) * norm(b)))  # in radians\n",
    "\n",
    "print('theta = {0:1.1f} degrees'.format(theta_rad * 180./pi))"
   ]
  },
  {
   "cell_type": "code",
   "execution_count": null,
   "metadata": {
    "colab": {},
    "colab_type": "code",
    "id": "u_0QKUacxu3o"
   },
   "outputs": [],
   "source": []
  },
  {
   "cell_type": "markdown",
   "metadata": {
    "colab_type": "text",
    "id": "vs05LEPpxyL9"
   },
   "source": [
    "Alternatively you could use `ase.Atoms.get_angle`. Note we want the angle between atoms with indices [1, 0, 2] to get the H-N-H angle."
   ]
  },
  {
   "cell_type": "code",
   "execution_count": null,
   "metadata": {
    "colab": {
     "base_uri": "https://localhost:8080/",
     "height": 34
    },
    "colab_type": "code",
    "executionInfo": {
     "elapsed": 363,
     "status": "ok",
     "timestamp": 1584822463219,
     "user": {
      "displayName": "John Kitchin",
      "photoUrl": "",
      "userId": "14782011281593705406"
     },
     "user_tz": 240
    },
    "id": "gJhU3kCHxy44",
    "outputId": "49c10aba-4f4a-439c-e7eb-ecd986c3764f"
   },
   "outputs": [
    {
     "name": "stdout",
     "output_type": "stream",
     "text": [
      "theta = 106.33462423179175 degrees\n"
     ]
    }
   ],
   "source": [
    "from ase.structure import molecule\n",
    "from numpy import pi\n",
    "# ammonia\n",
    "atoms = molecule('NH3')\n",
    "\n",
    "print('theta = {0} degrees'.format(atoms.get_angle(1, 0, 2) ))"
   ]
  },
  {
   "cell_type": "markdown",
   "metadata": {
    "colab_type": "text",
    "id": "_7MEpejMx-GU"
   },
   "source": [
    "## Dihedral angles\n",
    "There is support in ase for computing dihedral angles. Let us illustrate that for ethane. We will compute the dihedral angle between atoms 5, 1, 0, and 4. That is a H-C-C-H dihedral angle, and one can visually see (although not here) that these atoms have a dihedral angle of 60°."
   ]
  },
  {
   "cell_type": "code",
   "execution_count": null,
   "metadata": {
    "colab": {
     "base_uri": "https://localhost:8080/",
     "height": 204
    },
    "colab_type": "code",
    "executionInfo": {
     "elapsed": 419,
     "status": "ok",
     "timestamp": 1584822515639,
     "user": {
      "displayName": "John Kitchin",
      "photoUrl": "",
      "userId": "14782011281593705406"
     },
     "user_tz": 240
    },
    "id": "6AD_jk1bx0wW",
    "outputId": "e5f4af3c-7b18-4015-8180-5dc7f9f12341"
   },
   "outputs": [
    {
     "name": "stdout",
     "output_type": "stream",
     "text": [
      "atom symbol\n",
      "===========\n",
      " 0 C  \n",
      " 1 C  \n",
      " 2 H  \n",
      " 3 H  \n",
      " 4 H  \n",
      " 5 H  \n",
      " 6 H  \n",
      " 7 H  \n",
      "dihedral angle = 60.00 degrees\n"
     ]
    }
   ],
   "source": [
    "from ase.structure import molecule\n",
    "import numpy as np\n",
    "\n",
    "atoms = molecule('C2H6')\n",
    "\n",
    "print('atom symbol')\n",
    "print('===========')\n",
    "for i, atom in enumerate(atoms):\n",
    "  print('{0:2d} {1:3s}'.format(i, atom.symbol))\n",
    "\n",
    "da = atoms.get_dihedral(5, 1, 0, 4)\n",
    "print('dihedral angle = {0:1.2f} degrees'.format(da))"
   ]
  },
  {
   "cell_type": "markdown",
   "metadata": {
    "colab_type": "text",
    "id": "K5I4cPfSy6h_"
   },
   "source": [
    "# Wrapping up\n",
    "\n",
    "That is about all we can do without running a DFT calculation. See https://wiki.fysik.dtu.dk/ase/ase/atoms.html for more examples of what you can do with an Atoms object, including https://wiki.fysik.dtu.dk/ase/ase/atoms.html#list-of-all-methods which describes all the functions on Atoms object. We will see a lot more in the upcoming lectures.\n",
    "\n",
    "We focused only on molecules here. Later we will see examples of making bulk and surface geometries. Before that though, we will introduce several ideas needed for running DFT calculations."
   ]
  }
 ],
 "metadata": {
  "colab": {
   "collapsed_sections": [],
   "name": "01-intro-to-ase.ipynb",
   "provenance": [],
   "toc_visible": true
  },
  "kernelspec": {
   "display_name": "Python 3",
   "language": "python",
   "name": "python3"
  },
  "language_info": {
   "codemirror_mode": {
    "name": "ipython",
    "version": 3
   },
   "file_extension": ".py",
   "mimetype": "text/x-python",
   "name": "python",
   "nbconvert_exporter": "python",
   "pygments_lexer": "ipython3",
   "version": "3.8.8"
  }
 },
 "nbformat": 4,
 "nbformat_minor": 4
}
