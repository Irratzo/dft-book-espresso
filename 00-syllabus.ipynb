{
 "cells": [
  {
   "cell_type": "markdown",
   "metadata": {},
   "source": [
    "# About this project\n",
    "The original [dft-book](http://kitchingroup.cheme.cmu.edu/dft-book/dft.html) was written for VASP. In this project, we are rewriting most of that book for use with Quantum Espresso and Google Colab. \n",
    "\n",
    "Google Colab is a free service similar to Jupyter notebooks. Zack Ulissi worked out how to install all the libraries needed to run Quantum Espresso in a Colab notebook. This is not a production DFT service. We don’t know the limitations on how big or how many calculations you can run. The examples in the tutorials have worked for us. We hope they work for you!\n",
    "\n",
    "Please get in touch if you would like to make contributions, or even give some of the lessons.\n",
    "\n",
    "March 22, 2020: Pretty soon we are planning to host some live webinars on running these. Stay tuned here or on Twitter for the announcements.\n",
    "\n",
    "# Topics\n",
    "\n",
    "1. Intro to ASE - atoms, building them, atoms properties, etc. some visualization of them. [notebook](../00-intro-to-ase.ipynb)\n",
    "2. calculations on molecules, energy/forces, optimization, vibrations, including idea of convergence [notebook](../01-molecules.ipynb)\n",
    "3. Reactions with molecules, reaction energies, barriers\n",
    "4. bulk systems, structure calculations, EOS, elastic properties, comparison of bulk phase stability\n",
    "5. bulk formation energies, phase diagrams\n",
    "6. surface calculations, relaxations, surface energy\n",
    "7. adsorption energies, surface reactions, barriers\n",
    "8. Effects of XC functional on these things?\n",
    "9. atomistic thermodynamics\n",
    "\n"
   ]
  },
  {
   "cell_type": "code",
   "execution_count": null,
   "metadata": {},
   "outputs": [],
   "source": []
  }
 ],
 "metadata": {
  "kernelspec": {
   "display_name": "Python 3",
   "language": "python",
   "name": "python3"
  },
  "language_info": {
   "codemirror_mode": {
    "name": "ipython",
    "version": 3
   },
   "file_extension": ".py",
   "mimetype": "text/x-python",
   "name": "python",
   "nbconvert_exporter": "python",
   "pygments_lexer": "ipython3",
   "version": "3.7.4"
  }
 },
 "nbformat": 4,
 "nbformat_minor": 4
}
