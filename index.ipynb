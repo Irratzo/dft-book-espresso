{
 "cells": [
  {
   "cell_type": "markdown",
   "metadata": {},
   "source": [
    "\n",
    "# About this project\n",
    "\n",
    "The original dft-book was written for VASP. In this project, we are rewriting most of that book for use with Quantum Espresso and Google Colab.\n",
    "\n",
    "Google Colab is a free service similar to Jupyter notebooks. Zack Ulissi worked out how to install all the libraries needed to run Quantum Espresso in a Colab notebook. This is not a production DFT service. We don’t know the limitations on how big or how many calculations you can run. The examples in the tutorials have worked for us. We hope they work for you!\n",
    "\n",
    "\n",
    "\n",
    "# Topics\n",
    "\n",
    "1. Intro to ASE - atoms, building them, atoms properties, etc. some visualization of them. [notebook](01-intro-to-ase.html)\n",
    "2. Calculations on molecules, energy/forces, optimization, including idea of convergence. [notebook](02-molecules.html)\n",
    "3. Reactions with molecules, reaction energies, barriers\n",
    "4. Bulk systems, structure calculations, EOS, elastic properties, comparison of bulk phase stability\n",
    "5. Bulk formation energies, phase diagrams\n",
    "6. Surface calculations, relaxations, surface energy\n",
    "7. Adsorption energies, surface reactions, barriers\n",
    "8. Effects of XC functional on these things?\n",
    "9. Atomistic thermodynamics\n",
    "\n",
    "# Schedule\n",
    "\n",
    "March 22, 2020: Pretty soon we are planning to host some live webinars on running these. Stay tuned here or on Twitter for the announcements.\n",
    "\n",
    "\n",
    "# Contributing\n",
    "\n",
    "Please get in touch if you would like to make contributions, or even give some of the lessons. There are several ways you can help.\n",
    "\n",
    "1. Report bugs/typos/etc in the issue tracker (https://github.com/jkitchin/dft-book-espresso/issues)\n",
    "2. Write a notebook and contribute it. You can email it, share it via Gdrive, fork and make a pull request, put it somewhere I can find it and let me know, etc. All I ask is you give me permission to put it here, and make it so everyone can use it the same as everything else here. Try to match the general style here. Odds are high I will do some editing to help with that.\n",
    "3. Want to give one of the lectures? Let me know, I would be happy to facilitate that.\n"
   ]
  }
 ],
 "metadata": {
  "kernelspec": {
   "display_name": "Python 3",
   "language": "python",
   "name": "python3"
  },
  "language_info": {
   "codemirror_mode": {
    "name": "ipython",
    "version": 3
   },
   "file_extension": ".py",
   "mimetype": "text/x-python",
   "name": "python",
   "nbconvert_exporter": "python",
   "pygments_lexer": "ipython3",
   "version": "3.7.4"
  }
 },
 "nbformat": 4,
 "nbformat_minor": 4
}
