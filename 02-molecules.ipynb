{
 "cells": [
  {
   "cell_type": "markdown",
   "metadata": {},
   "source": [
    "<a href=\"https://colab.research.google.com/github/jkitchin/dft-book-espresso/blob/master/02-molecules.ipynb\" target=\"_blank\"><img align=\"left\" src=\"https://colab.research.google.com/assets/colab-badge.svg\" alt=\"Open in Colab\" title=\"Open and Execute in Google Colaboratory\"></a>"
   ]
  },
  {
   "cell_type": "markdown",
   "metadata": {
    "colab_type": "text",
    "id": "_KSXMzQuBlnS"
   },
   "source": [
    "Two of the most important quantities we are interested in are the total\n",
    "energy and the forces on the atoms. To get these quantities, we have\n",
    "to define a calculator and attach it to an `ase.Atoms` object so\n",
    "that `ase` knows how to get the data. After defining the calculator a\n",
    "DFT calculation must be run.\n",
    "\n",
    "Here is an example of getting the energy and forces from a CO\n",
    "molecule. The forces in this case are very high, indicating that this\n",
    "geometry is not close to the ground state geometry. Note that the\n",
    "forces are only along the $x$-axis, which is along the molecular axis. We will see how to minimize this force later.\n"
   ]
  },
  {
   "cell_type": "markdown",
   "metadata": {
    "colab_type": "text",
    "id": "6fMmiMhBDKjL"
   },
   "source": [
    "# Setup colab"
   ]
  },
  {
   "cell_type": "code",
   "execution_count": 1,
   "metadata": {
    "colab": {
     "base_uri": "https://localhost:8080/",
     "height": 241
    },
    "colab_type": "code",
    "executionInfo": {
     "elapsed": 36217,
     "status": "ok",
     "timestamp": 1584877021860,
     "user": {
      "displayName": "John Kitchin",
      "photoUrl": "",
      "userId": "14782011281593705406"
     },
     "user_tz": 240
    },
    "id": "KS8kr-MIBa5W",
    "outputId": "19eaa4e0-b838-4012-d4c9-3a343ca50c2e"
   },
   "outputs": [
    {
     "name": "stdout",
     "output_type": "stream",
     "text": [
      "Collecting dftbook\n",
      "  Downloading https://files.pythonhosted.org/packages/38/46/1bba8b3d344e18eea798653b3ed20395e8df90a747d4ffa74e6349feee70/dftbook-0.0.2-py3-none-any.whl\n",
      "Installing collected packages: dftbook\n",
      "Successfully installed dftbook-0.0.2\n",
      "Please be patient. This takes about 30 seconds.\n",
      "Installing quantum espresso\n",
      "Installing ASE\n",
      "Installing ase-espresso\n",
      "Installing pseudopotentials\n",
      "Renaming pseudopotentials\n",
      "Almost there, setting environment pseudopotential path\n",
      "Setup is complete. Please visit https://drive.google.com/drive/folders/1fVOol26JssnCRXv_3EVgsbk3Z5jd60Nl to find the tutorials.\n"
     ]
    }
   ],
   "source": [
    "! pip install --upgrade dftbook\n",
    "import dftbook\n",
    "dftbook.setup_colab()"
   ]
  },
  {
   "cell_type": "markdown",
   "metadata": {
    "colab_type": "text",
    "id": "cy01jyqPCMOZ"
   },
   "source": [
    "# Your first DFT calculation\n",
    "\n",
    "There are two parts to every DFT calculation with ASE. First, we setup the Atoms object that contains the geometry, then the calculator. You have to set the calculator on the Atoms object, and then you can get properties like the energy and forces.\n",
    "\n",
    "We setup a calculator that uses a planewave cutoff of 350 eV, and the PBE exchange correlation functional. We only want the energy, so we specify a self-consistent field calculation.\n",
    "\n",
    "No DFT calculation happens until you ask for a property, in this case the energy. The calculator should be smart enough to not run the calculation again if it is already done."
   ]
  },
  {
   "cell_type": "code",
   "execution_count": 2,
   "metadata": {
    "colab": {
     "base_uri": "https://localhost:8080/",
     "height": 34
    },
    "colab_type": "code",
    "executionInfo": {
     "elapsed": 9198,
     "status": "ok",
     "timestamp": 1584877175473,
     "user": {
      "displayName": "John Kitchin",
      "photoUrl": "",
      "userId": "14782011281593705406"
     },
     "user_tz": 240
    },
    "id": "3sAA9LaPBiGq",
    "outputId": "b71f9a35-ba48-46b6-fab3-7cccb17129c7"
   },
   "outputs": [
    {
     "data": {
      "text/plain": [
       "-593.6960610598508"
      ]
     },
     "execution_count": 2,
     "metadata": {
      "tags": []
     },
     "output_type": "execute_result"
    }
   ],
   "source": [
    "from ase import Atoms, Atom\n",
    "from espresso import Espresso\n",
    "\n",
    "co = Atoms([Atom('C', [0, 0, 0]),\n",
    "            Atom('O', [1.2, 0, 0])],\n",
    "            cell=(6., 6., 6.))\n",
    "\n",
    "#Use QE as a single-point calculator (just SCF)\n",
    "calc = Espresso(pw=350.0, \n",
    "                calculation='scf',\n",
    "                xc='PBE')\n",
    "\n",
    "co.set_calculator(calc)\n",
    "co.get_potential_energy()  # This triggers the DFT calculation"
   ]
  },
  {
   "cell_type": "markdown",
   "metadata": {
    "colab_type": "text",
    "id": "3N_qrdgCCpii"
   },
   "source": [
    "That energy is not particularly useful by itself. We have no context to determine what it means. Let's get the forces next. "
   ]
  },
  {
   "cell_type": "code",
   "execution_count": 3,
   "metadata": {
    "colab": {
     "base_uri": "https://localhost:8080/",
     "height": 51
    },
    "colab_type": "code",
    "executionInfo": {
     "elapsed": 369,
     "status": "ok",
     "timestamp": 1584877203422,
     "user": {
      "displayName": "John Kitchin",
      "photoUrl": "",
      "userId": "14782011281593705406"
     },
     "user_tz": 240
    },
    "id": "WV8gFMhXCl5u",
    "outputId": "160477c8-53b1-4366-a767-46fce991bfbe"
   },
   "outputs": [
    {
     "data": {
      "text/plain": [
       "array([[ 5.46386614,  0.        ,  0.        ],\n",
       "       [-5.46386614,  0.        ,  0.        ]])"
      ]
     },
     "execution_count": 3,
     "metadata": {
      "tags": []
     },
     "output_type": "execute_result"
    }
   ],
   "source": [
    "co.get_forces()"
   ]
  },
  {
   "cell_type": "markdown",
   "metadata": {
    "colab_type": "text",
    "id": "N90gvjrAC5Bi"
   },
   "source": [
    "The forces here are in eV/angstrom, and they are very high. That means there is a better bond length that would have lower forces, and lower energy. We have to check a few more things first though. There are two parameters we need to understand the effect of on the energy. Those are:\n",
    "\n",
    "1. The size of the unit cell\n",
    "2. The planewave cutoff\n",
    "\n",
    "There are periodic boundary conditions, so the CO molecule can interact with images in neighboring cells. We need to make sure the unit cell is large enough to minimize these interactions.\n",
    "\n",
    "We also want to make sure the planewave cutoff is high enough that the energy and forces do not depend on it that much. \n",
    "\n",
    "## Convergence of the unit cell size\n",
    "We will start with the unit cell size. To do this we need to make a list of atoms objects with different unit cells, and then get the energy of each one. Below I use list comprehensions for this."
   ]
  },
  {
   "cell_type": "code",
   "execution_count": 4,
   "metadata": {
    "colab": {
     "base_uri": "https://localhost:8080/",
     "height": 302
    },
    "colab_type": "code",
    "executionInfo": {
     "elapsed": 62097,
     "status": "ok",
     "timestamp": 1584877937403,
     "user": {
      "displayName": "John Kitchin",
      "photoUrl": "",
      "userId": "14782011281593705406"
     },
     "user_tz": 240
    },
    "id": "Irs9ig3QCu42",
    "outputId": "557793dc-3b02-4515-ea48-c35d0e4664b0"
   },
   "outputs": [
    {
     "data": {
      "text/plain": [
       "Text(0, 0.5, 'Total energy (eV)')"
      ]
     },
     "execution_count": 4,
     "metadata": {
      "tags": []
     },
     "output_type": "execute_result"
    },
    {
     "data": {
      "image/png": "[encoded data removed]",
      "text/plain": [
       "<Figure size 432x288 with 1 Axes>"
      ]
     },
     "metadata": {
      "tags": []
     },
     "output_type": "display_data"
    }
   ],
   "source": [
    "L = [4, 5, 6, 8, 10]\n",
    "\n",
    "ATOMS = [Atoms([Atom('C', [0, 0, 0]),\n",
    "                Atom('O', [1.2, 0, 0])],\n",
    "                cell=(a, a, a)) for a in L]\n",
    "\n",
    "# This list comprehension works by side effect\n",
    "[atoms.set_calculator(Espresso(pw=350.0, \n",
    "                               calculation='scf',\n",
    "                               xc='PBE'))\n",
    "  for atoms in ATOMS]\n",
    "\n",
    "energies = [atoms.get_potential_energy() for atoms in ATOMS]\n",
    "\n",
    "import matplotlib.pyplot as plt\n",
    "plt.plot(L, energies, 'bo-')\n",
    "plt.xlabel('Unit cell length ($\\AA$)')\n",
    "plt.ylabel('Total energy (eV)')"
   ]
  },
  {
   "cell_type": "markdown",
   "metadata": {
    "colab_type": "text",
    "id": "PTCaWmsGGyJi"
   },
   "source": [
    "We should also look at the forces. You can see these depend more strongly on the cell size, but again a unit cell larger than 6 angstroms has a pretty constant force."
   ]
  },
  {
   "cell_type": "code",
   "execution_count": 7,
   "metadata": {
    "colab": {
     "base_uri": "https://localhost:8080/",
     "height": 285
    },
    "colab_type": "code",
    "executionInfo": {
     "elapsed": 513,
     "status": "ok",
     "timestamp": 1584878257361,
     "user": {
      "displayName": "John Kitchin",
      "photoUrl": "",
      "userId": "14782011281593705406"
     },
     "user_tz": 240
    },
    "id": "05iAfTp7GhVn",
    "outputId": "6d8deeab-9ca1-469a-aac6-ac132d026b4e"
   },
   "outputs": [
    {
     "data": {
      "image/png": "[encoded data removed]",
      "text/plain": [
       "<Figure size 432x288 with 1 Axes>"
      ]
     },
     "metadata": {
      "tags": []
     },
     "output_type": "display_data"
    }
   ],
   "source": [
    "forces = [atoms.get_forces()[0, 0] for atoms in ATOMS]\n",
    "plt.plot(L, forces)\n",
    "plt.xlabel('Unit cell length ($\\AA$)')\n",
    "plt.ylabel('F0x (eV/angstrom)');"
   ]
  },
  {
   "cell_type": "markdown",
   "metadata": {
    "colab_type": "text",
    "id": "qGhS6mpiF4RA"
   },
   "source": [
    "You can see that for unit cells bigger than about 6 angstroms, the energy does not change much. Larger unit cells are more expensive to compute though, so we do not want them to be larger than necessary.\n",
    "\n",
    "## Planewave energy convergence\n",
    "\n",
    "We use a similar approach for testing the planewave convergence. We look at the energy and forces here."
   ]
  },
  {
   "cell_type": "code",
   "execution_count": 9,
   "metadata": {
    "colab": {
     "base_uri": "https://localhost:8080/",
     "height": 102
    },
    "colab_type": "code",
    "executionInfo": {
     "elapsed": 34060,
     "status": "ok",
     "timestamp": 1584878577457,
     "user": {
      "displayName": "John Kitchin",
      "photoUrl": "",
      "userId": "14782011281593705406"
     },
     "user_tz": 240
    },
    "id": "Rt2WNosVFS_1",
    "outputId": "3cdf31af-c859-4618-e273-fbe8f4cb0aa4"
   },
   "outputs": [
    {
     "name": "stdout",
     "output_type": "stream",
     "text": [
      "Elapsed time for pw=200.0 = 4.0 sec.\n",
      "Elapsed time for pw=250.0 = 5.2 sec.\n",
      "Elapsed time for pw=300.0 = 7.0 sec.\n",
      "Elapsed time for pw=350.0 = 8.2 sec.\n",
      "Elapsed time for pw=400.0 = 9.2 sec.\n"
     ]
    }
   ],
   "source": [
    "import numpy as np\n",
    "PW = np.linspace(200, 400, 5)\n",
    "\n",
    "ATOMS = [Atoms([Atom('C', [0, 0, 0]),\n",
    "                Atom('O', [1.2, 0, 0])],\n",
    "                cell=(6, 6, 6)) for pw in PW]\n",
    "\n",
    "# This list comprehension works by side effect\n",
    "[ATOMS[i].set_calculator(Espresso(pw=pw, \n",
    "                               calculation='scf',\n",
    "                               xc='PBE'))\n",
    "  for i, pw in enumerate(PW)]\n",
    "\n",
    "import time\n",
    "energies = []\n",
    "\n",
    "for i, pw in enumerate(PW):\n",
    "  t0 = time.time()\n",
    "  atoms = ATOMS[i]\n",
    "  energies += [atoms.get_potential_energy()]\n",
    "  print(f'Elapsed time for pw={pw} = {time.time() - t0:1.1f} sec.')"
   ]
  },
  {
   "cell_type": "markdown",
   "metadata": {
    "colab_type": "text",
    "id": "GrASUC1UIA70"
   },
   "source": [
    "You can see that higher planewave cutoffs are more expensive than smaller ones. Again, we have to find a compromise here. The times here are very small because we have only a CO molecule. But, the time range here is relevant, because it can be the difference between 1 hour or 2 hours, or days, etc.\n",
    "\n",
    "It is always necessary to check this. You may find some guidelines in the files at http://www.quantum-espresso.org/pseudopotentials."
   ]
  },
  {
   "cell_type": "code",
   "execution_count": 10,
   "metadata": {
    "colab": {
     "base_uri": "https://localhost:8080/",
     "height": 296
    },
    "colab_type": "code",
    "executionInfo": {
     "elapsed": 374,
     "status": "ok",
     "timestamp": 1584878582408,
     "user": {
      "displayName": "John Kitchin",
      "photoUrl": "",
      "userId": "14782011281593705406"
     },
     "user_tz": 240
    },
    "id": "JGSzmZzEGLK2",
    "outputId": "8688d6d0-7fb2-43a2-eb8c-4f349fbaa158"
   },
   "outputs": [
    {
     "data": {
      "text/plain": [
       "Text(0, 0.5, 'Total energy (eV)')"
      ]
     },
     "execution_count": 10,
     "metadata": {
      "tags": []
     },
     "output_type": "execute_result"
    },
    {
     "data": {
      "image/png": "[encoded data removed]",
      "text/plain": [
       "<Figure size 432x288 with 1 Axes>"
      ]
     },
     "metadata": {
      "tags": []
     },
     "output_type": "display_data"
    }
   ],
   "source": [
    "plt.plot(PW, energies, 'bo-')\n",
    "plt.xlabel('pw (eV)')\n",
    "plt.ylabel('Total energy (eV)')"
   ]
  },
  {
   "cell_type": "markdown",
   "metadata": {
    "colab_type": "text",
    "id": "RbInYYolJdHR"
   },
   "source": [
    "The energy is changing a lot here, and even at 400 is not considered converged. That is not surprising, C and O are considered \"hard\" and probably need a cutoff greater than 500 eV to be considered converged. We will not worry about that here. It is also usually not the total energy we need to be worried about, but rather some difference in energies. Note below, that the derivative (which is like a difference) converges rather quickly."
   ]
  },
  {
   "cell_type": "code",
   "execution_count": 12,
   "metadata": {
    "colab": {
     "base_uri": "https://localhost:8080/",
     "height": 279
    },
    "colab_type": "code",
    "executionInfo": {
     "elapsed": 477,
     "status": "ok",
     "timestamp": 1584879071427,
     "user": {
      "displayName": "John Kitchin",
      "photoUrl": "",
      "userId": "14782011281593705406"
     },
     "user_tz": 240
    },
    "id": "6007LPHpH_ix",
    "outputId": "1200f8a8-5ec6-458e-ab80-27f01be5fe10"
   },
   "outputs": [
    {
     "data": {
      "image/png": "[encoded data removed]",
      "text/plain": [
       "<Figure size 432x288 with 1 Axes>"
      ]
     },
     "metadata": {
      "tags": []
     },
     "output_type": "display_data"
    }
   ],
   "source": [
    "forces = [atoms.get_forces()[0, 0] for atoms in ATOMS]\n",
    "plt.plot(PW, forces)\n",
    "plt.xlabel('pw')\n",
    "plt.ylabel('F0x (eV/angstrom)');"
   ]
  },
  {
   "cell_type": "markdown",
   "metadata": {
    "colab_type": "text",
    "id": "gviLEegwKCVl"
   },
   "source": [
    "# Introduction to geometry optimization\n",
    "\n",
    "In the example above, we saw that the forces were high. That means there is a bond length where the energy is lower. We explored the convergence of two calculation parameters, and saw that a unit cell of at least 6 angstroms is a minimally reasonable choice, and that the forces are reasonably converged at 350 eV. We would not publish results like this, but they are ok to see how this works.\n",
    "\n",
    "## Manual determination of optimal bond length\n",
    "First, we will compute the energy and forces for a series of bond lengths."
   ]
  },
  {
   "cell_type": "code",
   "execution_count": 13,
   "metadata": {
    "colab": {
     "base_uri": "https://localhost:8080/",
     "height": 102
    },
    "colab_type": "code",
    "executionInfo": {
     "elapsed": 42463,
     "status": "ok",
     "timestamp": 1584879391617,
     "user": {
      "displayName": "John Kitchin",
      "photoUrl": "",
      "userId": "14782011281593705406"
     },
     "user_tz": 240
    },
    "id": "xz09EKh0JzbH",
    "outputId": "95398d4d-0e17-4251-8f7a-10afc0ec1642"
   },
   "outputs": [
    {
     "name": "stdout",
     "output_type": "stream",
     "text": [
      "Elapsed time for d=1.05 = 8.3 sec.\n",
      "Elapsed time for d=1.1 = 8.3 sec.\n",
      "Elapsed time for d=1.15 = 8.2 sec.\n",
      "Elapsed time for d=1.2 = 8.3 sec.\n",
      "Elapsed time for d=1.25 = 8.2 sec.\n"
     ]
    }
   ],
   "source": [
    "bond_lengths = [1.05, 1.1, 1.15, 1.2, 1.25]\n",
    "\n",
    "ATOMS = [Atoms([Atom('C', [0, 0, 0]),\n",
    "                Atom('O', [d, 0, 0])],\n",
    "                cell=(6, 6, 6)) for d in bond_lengths]\n",
    "\n",
    "# This list comprehension works by side effect\n",
    "[ATOMS[i].set_calculator(Espresso(pw=350, \n",
    "                               calculation='scf',\n",
    "                               xc='PBE'))\n",
    "  for i, d in enumerate(bond_lengths)]\n",
    "\n",
    "import time\n",
    "energies = []\n",
    "\n",
    "for i, d in enumerate(bond_lengths):\n",
    "  t0 = time.time()\n",
    "  atoms = ATOMS[i]\n",
    "  energies += [atoms.get_potential_energy()]\n",
    "  print(f'Elapsed time for d={d} = {time.time() - t0:1.1f} sec.')\n"
   ]
  },
  {
   "cell_type": "code",
   "execution_count": 27,
   "metadata": {
    "colab": {
     "base_uri": "https://localhost:8080/",
     "height": 296
    },
    "colab_type": "code",
    "executionInfo": {
     "elapsed": 719,
     "status": "ok",
     "timestamp": 1584880025779,
     "user": {
      "displayName": "John Kitchin",
      "photoUrl": "",
      "userId": "14782011281593705406"
     },
     "user_tz": 240
    },
    "id": "sxRuLVEpK60-",
    "outputId": "4e0bb1b5-e3fe-4f79-d22d-8b88bd6324c1"
   },
   "outputs": [
    {
     "name": "stdout",
     "output_type": "stream",
     "text": [
      "Emin = -593.872 eV at d=1.140 angstroms\n"
     ]
    },
    {
     "data": {
      "image/png": "[encoded data removed]",
      "text/plain": [
       "<Figure size 432x288 with 1 Axes>"
      ]
     },
     "metadata": {
      "tags": []
     },
     "output_type": "display_data"
    }
   ],
   "source": [
    "p = np.polyfit(bond_lengths, energies, 3)\n",
    "\n",
    "\n",
    "\n",
    "bfit = np.linspace(1.05, 1.25)\n",
    "efit = np.polyval(p, bfit)\n",
    "imin = np.argmin(efit)\n",
    "plt.plot(bond_lengths, energies, 'bo')\n",
    "plt.plot(bfit, efit)\n",
    "plt.plot(bfit[imin], efit[imin], 'ro')\n",
    "plt.legend(['data', 'fit', 'minimum'])\n",
    "plt.xlabel('bond length (ang)')\n",
    "plt.ylabel('energy (eV)')\n",
    "\n",
    "print(f'Emin = {efit[imin]:1.3f} eV at d={bfit[imin]:1.3f} angstroms')"
   ]
  },
  {
   "cell_type": "markdown",
   "metadata": {
    "colab_type": "text",
    "id": "OysB_cTDNwSK"
   },
   "source": [
    "A critical point to note here is that this minimum is also where the force changes sign from negative to positive, i.e. the force becomes zero."
   ]
  },
  {
   "cell_type": "code",
   "execution_count": 34,
   "metadata": {
    "colab": {
     "base_uri": "https://localhost:8080/",
     "height": 296
    },
    "colab_type": "code",
    "executionInfo": {
     "elapsed": 522,
     "status": "ok",
     "timestamp": 1584880204600,
     "user": {
      "displayName": "John Kitchin",
      "photoUrl": "",
      "userId": "14782011281593705406"
     },
     "user_tz": 240
    },
    "id": "rREWRvS5LKME",
    "outputId": "322c63b8-6bb3-4deb-b601-31bbbc304bba"
   },
   "outputs": [
    {
     "data": {
      "text/plain": [
       "Text(0, 0.5, 'Force (eV/ang)')"
      ]
     },
     "execution_count": 34,
     "metadata": {
      "tags": []
     },
     "output_type": "execute_result"
    },
    {
     "data": {
      "image/png": "[encoded data removed]",
      "text/plain": [
       "<Figure size 432x288 with 1 Axes>"
      ]
     },
     "metadata": {
      "tags": []
     },
     "output_type": "display_data"
    }
   ],
   "source": [
    "forces = [atoms.get_forces()[0, 0] for atoms in ATOMS]\n",
    "plt.plot(bond_lengths, forces)\n",
    "plt.axvline(bfit[imin], color='r')\n",
    "plt.xlabel('bond length')\n",
    "plt.ylabel('Force (eV/ang)')"
   ]
  },
  {
   "cell_type": "markdown",
   "metadata": {
    "colab_type": "text",
    "id": "muxnVjMsRZLD"
   },
   "source": [
    "This is only a reasonable way to approach geometry optimization because it is essentially a 1D optimization, i.e. the bond length. It is not how we usually approach geometry optimization. Next we discuss two approaches to automating this.\n",
    "\n",
    "## Geometry optimization in ASE\n",
    "\n",
    "ASE provides a way to automate the optimization. We setup an optimizer object, and then run it. We specify a convergence criteria, in this case we stop when the maximum force is less than 0.05 eV/angstrom."
   ]
  },
  {
   "cell_type": "code",
   "execution_count": 35,
   "metadata": {
    "colab": {
     "base_uri": "https://localhost:8080/",
     "height": 119
    },
    "colab_type": "code",
    "executionInfo": {
     "elapsed": 33420,
     "status": "ok",
     "timestamp": 1584881227134,
     "user": {
      "displayName": "John Kitchin",
      "photoUrl": "",
      "userId": "14782011281593705406"
     },
     "user_tz": 240
    },
    "id": "c2-QOC_iNvDw",
    "outputId": "f19095b1-2b42-4f78-aba6-68e75703a594"
   },
   "outputs": [
    {
     "name": "stdout",
     "output_type": "stream",
     "text": [
      "                Step[ FC]     Time          Energy          fmax\n",
      "*Force-consistent energies used in optimization.\n",
      "BFGSLineSearch:    0[  0] 12:46:42     -593.696061*       5.4639\n",
      "BFGSLineSearch:    1[  2] 12:46:58     -593.868584*       0.1704\n",
      "BFGSLineSearch:    2[  3] 12:47:06     -593.868699*       0.0422\n"
     ]
    },
    {
     "data": {
      "text/plain": [
       "True"
      ]
     },
     "execution_count": 35,
     "metadata": {
      "tags": []
     },
     "output_type": "execute_result"
    }
   ],
   "source": [
    "co = Atoms([Atom('C', [0, 0, 0]),\n",
    "            Atom('O', [1.2, 0, 0])],\n",
    "            cell=(6., 6., 6.))\n",
    "\n",
    "#Use QE as a single-point calculator (just SCF)\n",
    "calc = Espresso(pw=350.0, \n",
    "                calculation='scf',\n",
    "                xc='PBE')\n",
    "\n",
    "co.set_calculator(calc)\n",
    "\n",
    "from ase.optimize import QuasiNewton\n",
    "dyn = QuasiNewton(co)\n",
    "dyn.run(fmax=0.05)"
   ]
  },
  {
   "cell_type": "markdown",
   "metadata": {
    "colab_type": "text",
    "id": "me7lm1-bSHXF"
   },
   "source": [
    "That only took three iterations, which is less than the manual approach we used above. \n",
    "\n",
    "When it is done we can get the bond length from the atoms object."
   ]
  },
  {
   "cell_type": "code",
   "execution_count": 36,
   "metadata": {
    "colab": {
     "base_uri": "https://localhost:8080/",
     "height": 34
    },
    "colab_type": "code",
    "executionInfo": {
     "elapsed": 375,
     "status": "ok",
     "timestamp": 1584881230236,
     "user": {
      "displayName": "John Kitchin",
      "photoUrl": "",
      "userId": "14782011281593705406"
     },
     "user_tz": 240
    },
    "id": "yhVtQvu7R9KT",
    "outputId": "45e2b35a-695e-4aa6-93e9-d37625a12346"
   },
   "outputs": [
    {
     "data": {
      "text/plain": [
       "1.141729370561679"
      ]
     },
     "execution_count": 36,
     "metadata": {
      "tags": []
     },
     "output_type": "execute_result"
    }
   ],
   "source": [
    "co.get_distance(0, 1)"
   ]
  },
  {
   "cell_type": "markdown",
   "metadata": {
    "colab_type": "text",
    "id": "nja0MhJBSqmV"
   },
   "source": [
    "The total energy at this bond length is not the same as the one we estimated above, but it is close. The estimate above is from fitting, and the fit is probably not that accurate near the minimum."
   ]
  },
  {
   "cell_type": "code",
   "execution_count": 37,
   "metadata": {
    "colab": {
     "base_uri": "https://localhost:8080/",
     "height": 34
    },
    "colab_type": "code",
    "executionInfo": {
     "elapsed": 471,
     "status": "ok",
     "timestamp": 1584881364861,
     "user": {
      "displayName": "John Kitchin",
      "photoUrl": "",
      "userId": "14782011281593705406"
     },
     "user_tz": 240
    },
    "id": "YFhFhL5tSF_o",
    "outputId": "3f1a14bb-5a26-4a5c-d84c-e99f01f4401f"
   },
   "outputs": [
    {
     "data": {
      "text/plain": [
       "-593.8686994807175"
      ]
     },
     "execution_count": 37,
     "metadata": {
      "tags": []
     },
     "output_type": "execute_result"
    }
   ],
   "source": [
    "co.get_potential_energy()"
   ]
  },
  {
   "cell_type": "markdown",
   "metadata": {
    "colab_type": "text",
    "id": "Cbam1BhxS3Gf"
   },
   "source": [
    "Finally, we note that the forces are now low, and less than the tolerance we specified."
   ]
  },
  {
   "cell_type": "code",
   "execution_count": 38,
   "metadata": {
    "colab": {
     "base_uri": "https://localhost:8080/",
     "height": 51
    },
    "colab_type": "code",
    "executionInfo": {
     "elapsed": 354,
     "status": "ok",
     "timestamp": 1584881428059,
     "user": {
      "displayName": "John Kitchin",
      "photoUrl": "",
      "userId": "14782011281593705406"
     },
     "user_tz": 240
    },
    "id": "0j9ItTVDSm1P",
    "outputId": "b9b14d09-0357-49c4-94c7-19daad878cd1"
   },
   "outputs": [
    {
     "data": {
      "text/plain": [
       "array([[ 0.04220055,  0.        ,  0.        ],\n",
       "       [-0.04220055,  0.        ,  0.        ]])"
      ]
     },
     "execution_count": 38,
     "metadata": {
      "tags": []
     },
     "output_type": "execute_result"
    }
   ],
   "source": [
    "co.get_forces()"
   ]
  },
  {
   "cell_type": "markdown",
   "metadata": {
    "colab_type": "text",
    "id": "R8XsqtNYS7sP"
   },
   "source": [
    "## Optimization with Quantum Espresso\n",
    "\n",
    "We can also let Quantum Espresso do the optimization for us. \n",
    "\n",
    "This does not seem to work."
   ]
  },
  {
   "cell_type": "code",
   "execution_count": 43,
   "metadata": {
    "colab": {
     "base_uri": "https://localhost:8080/",
     "height": 358
    },
    "colab_type": "code",
    "executionInfo": {
     "elapsed": 488,
     "status": "error",
     "timestamp": 1584881707880,
     "user": {
      "displayName": "John Kitchin",
      "photoUrl": "",
      "userId": "14782011281593705406"
     },
     "user_tz": 240
    },
    "id": "V3FO60TdS2S6",
    "outputId": "fe2b77f4-8750-43ef-d2de-91e27059a477"
   },
   "outputs": [
    {
     "ename": "RuntimeError",
     "evalue": "ignored",
     "output_type": "error",
     "traceback": [
      "\u001b[0;31m---------------------------------------------------------------------------\u001b[0m",
      "\u001b[0;31mRuntimeError\u001b[0m                              Traceback (most recent call last)",
      "\u001b[0;32m<ipython-input-43-862de9291079>\u001b[0m in \u001b[0;36m<module>\u001b[0;34m()\u001b[0m\n\u001b[1;32m     10\u001b[0m                 xc='PBE')\n\u001b[1;32m     11\u001b[0m \u001b[0mco\u001b[0m\u001b[0;34m.\u001b[0m\u001b[0mset_calculator\u001b[0m\u001b[0;34m(\u001b[0m\u001b[0mcalc\u001b[0m\u001b[0;34m)\u001b[0m\u001b[0;34m\u001b[0m\u001b[0;34m\u001b[0m\u001b[0m\n\u001b[0;32m---> 12\u001b[0;31m \u001b[0mco\u001b[0m\u001b[0;34m.\u001b[0m\u001b[0mget_forces\u001b[0m\u001b[0;34m(\u001b[0m\u001b[0;34m)\u001b[0m\u001b[0;34m\u001b[0m\u001b[0;34m\u001b[0m\u001b[0m\n\u001b[0m",
      "\u001b[0;32m/usr/local/lib/python3.6/dist-packages/ase/atoms.py\u001b[0m in \u001b[0;36mget_forces\u001b[0;34m(self, apply_constraint, md)\u001b[0m\n\u001b[1;32m    752\u001b[0m         \u001b[0;32mif\u001b[0m \u001b[0mself\u001b[0m\u001b[0;34m.\u001b[0m\u001b[0m_calc\u001b[0m \u001b[0;32mis\u001b[0m \u001b[0;32mNone\u001b[0m\u001b[0;34m:\u001b[0m\u001b[0;34m\u001b[0m\u001b[0;34m\u001b[0m\u001b[0m\n\u001b[1;32m    753\u001b[0m             \u001b[0;32mraise\u001b[0m \u001b[0mRuntimeError\u001b[0m\u001b[0;34m(\u001b[0m\u001b[0;34m'Atoms object has no calculator.'\u001b[0m\u001b[0;34m)\u001b[0m\u001b[0;34m\u001b[0m\u001b[0;34m\u001b[0m\u001b[0m\n\u001b[0;32m--> 754\u001b[0;31m         \u001b[0mforces\u001b[0m \u001b[0;34m=\u001b[0m \u001b[0mself\u001b[0m\u001b[0;34m.\u001b[0m\u001b[0m_calc\u001b[0m\u001b[0;34m.\u001b[0m\u001b[0mget_forces\u001b[0m\u001b[0;34m(\u001b[0m\u001b[0mself\u001b[0m\u001b[0;34m)\u001b[0m\u001b[0;34m\u001b[0m\u001b[0;34m\u001b[0m\u001b[0m\n\u001b[0m\u001b[1;32m    755\u001b[0m \u001b[0;34m\u001b[0m\u001b[0m\n\u001b[1;32m    756\u001b[0m         \u001b[0;32mif\u001b[0m \u001b[0mapply_constraint\u001b[0m\u001b[0;34m:\u001b[0m\u001b[0;34m\u001b[0m\u001b[0;34m\u001b[0m\u001b[0m\n",
      "\u001b[0;32m/usr/local/lib/python3.6/dist-packages/espresso/espresso.py\u001b[0m in \u001b[0;36mget_forces\u001b[0;34m(self, atoms)\u001b[0m\n\u001b[1;32m   1231\u001b[0m \u001b[0;34m\u001b[0m\u001b[0m\n\u001b[1;32m   1232\u001b[0m     \u001b[0;32mdef\u001b[0m \u001b[0mget_forces\u001b[0m\u001b[0;34m(\u001b[0m\u001b[0mself\u001b[0m\u001b[0;34m,\u001b[0m \u001b[0matoms\u001b[0m\u001b[0;34m)\u001b[0m\u001b[0;34m:\u001b[0m\u001b[0;34m\u001b[0m\u001b[0;34m\u001b[0m\u001b[0m\n\u001b[0;32m-> 1233\u001b[0;31m         \u001b[0mself\u001b[0m\u001b[0;34m.\u001b[0m\u001b[0mupdate\u001b[0m\u001b[0;34m(\u001b[0m\u001b[0matoms\u001b[0m\u001b[0;34m)\u001b[0m\u001b[0;34m\u001b[0m\u001b[0;34m\u001b[0m\u001b[0m\n\u001b[0m\u001b[1;32m   1234\u001b[0m         \u001b[0;32mif\u001b[0m \u001b[0mself\u001b[0m\u001b[0;34m.\u001b[0m\u001b[0mnewforcearray\u001b[0m\u001b[0;34m:\u001b[0m\u001b[0;34m\u001b[0m\u001b[0;34m\u001b[0m\u001b[0m\n\u001b[1;32m   1235\u001b[0m             \u001b[0;32mreturn\u001b[0m \u001b[0mself\u001b[0m\u001b[0;34m.\u001b[0m\u001b[0mforces\u001b[0m\u001b[0;34m.\u001b[0m\u001b[0mcopy\u001b[0m\u001b[0;34m(\u001b[0m\u001b[0;34m)\u001b[0m\u001b[0;34m\u001b[0m\u001b[0;34m\u001b[0m\u001b[0m\n",
      "\u001b[0;32m/usr/local/lib/python3.6/dist-packages/espresso/espresso.py\u001b[0m in \u001b[0;36mupdate\u001b[0;34m(self, atoms)\u001b[0m\n\u001b[1;32m    857\u001b[0m \u001b[0;34m\u001b[0m\u001b[0m\n\u001b[1;32m    858\u001b[0m         \u001b[0;32mif\u001b[0m \u001b[0mself\u001b[0m\u001b[0;34m.\u001b[0m\u001b[0mcalculation_required\u001b[0m\u001b[0;34m(\u001b[0m\u001b[0matoms\u001b[0m\u001b[0;34m,\u001b[0m \u001b[0;34m[\u001b[0m\u001b[0;34m'energy'\u001b[0m\u001b[0;34m]\u001b[0m\u001b[0;34m)\u001b[0m\u001b[0;34m:\u001b[0m\u001b[0;34m\u001b[0m\u001b[0;34m\u001b[0m\u001b[0m\n\u001b[0;32m--> 859\u001b[0;31m             \u001b[0mself\u001b[0m\u001b[0;34m.\u001b[0m\u001b[0mcalculate\u001b[0m\u001b[0;34m(\u001b[0m\u001b[0matoms\u001b[0m\u001b[0;34m)\u001b[0m\u001b[0;34m\u001b[0m\u001b[0;34m\u001b[0m\u001b[0m\n\u001b[0m\u001b[1;32m    860\u001b[0m             \u001b[0mself\u001b[0m\u001b[0;34m.\u001b[0m\u001b[0mrecalculate\u001b[0m \u001b[0;34m=\u001b[0m \u001b[0;32mFalse\u001b[0m\u001b[0;34m\u001b[0m\u001b[0;34m\u001b[0m\u001b[0m\n\u001b[1;32m    861\u001b[0m \u001b[0;34m\u001b[0m\u001b[0m\n",
      "\u001b[0;32m/usr/local/lib/python3.6/dist-packages/espresso/espresso.py\u001b[0m in \u001b[0;36mcalculate\u001b[0;34m(self, atoms, properties)\u001b[0m\n\u001b[1;32m    815\u001b[0m \u001b[0;34m\u001b[0m\u001b[0m\n\u001b[1;32m    816\u001b[0m         \u001b[0;31m# check for errors\u001b[0m\u001b[0;34m\u001b[0m\u001b[0;34m\u001b[0m\u001b[0;34m\u001b[0m\u001b[0m\n\u001b[0;32m--> 817\u001b[0;31m         \u001b[0mself\u001b[0m\u001b[0;34m.\u001b[0m\u001b[0mcheckerror\u001b[0m\u001b[0;34m(\u001b[0m\u001b[0;34m)\u001b[0m\u001b[0;34m\u001b[0m\u001b[0;34m\u001b[0m\u001b[0m\n\u001b[0m\u001b[1;32m    818\u001b[0m \u001b[0;34m\u001b[0m\u001b[0m\n\u001b[1;32m    819\u001b[0m         \u001b[0;31m# parse results\u001b[0m\u001b[0;34m\u001b[0m\u001b[0;34m\u001b[0m\u001b[0;34m\u001b[0m\u001b[0m\n",
      "\u001b[0;32m/usr/local/lib/python3.6/dist-packages/espresso/espresso.py\u001b[0m in \u001b[0;36mcheckerror\u001b[0;34m(self)\u001b[0m\n\u001b[1;32m   2248\u001b[0m                 \u001b[0;32mreturn\u001b[0m\u001b[0;34m\u001b[0m\u001b[0;34m\u001b[0m\u001b[0m\n\u001b[1;32m   2249\u001b[0m             \u001b[0;32melse\u001b[0m\u001b[0;34m:\u001b[0m\u001b[0;34m\u001b[0m\u001b[0;34m\u001b[0m\u001b[0m\n\u001b[0;32m-> 2250\u001b[0;31m                 \u001b[0;32mraise\u001b[0m \u001b[0mRuntimeError\u001b[0m\u001b[0;34m(\u001b[0m\u001b[0mmsg\u001b[0m\u001b[0;34m.\u001b[0m\u001b[0mrstrip\u001b[0m\u001b[0;34m(\u001b[0m\u001b[0;34m'\\n'\u001b[0m\u001b[0;34m)\u001b[0m\u001b[0;34m)\u001b[0m\u001b[0;34m\u001b[0m\u001b[0;34m\u001b[0m\u001b[0m\n\u001b[0m\u001b[1;32m   2251\u001b[0m \u001b[0;34m\u001b[0m\u001b[0m\n\u001b[1;32m   2252\u001b[0m     \u001b[0;32mdef\u001b[0m \u001b[0mcheck_spinpol\u001b[0m\u001b[0;34m(\u001b[0m\u001b[0mself\u001b[0m\u001b[0;34m)\u001b[0m\u001b[0;34m:\u001b[0m\u001b[0;34m\u001b[0m\u001b[0;34m\u001b[0m\u001b[0m\n",
      "\u001b[0;31mRuntimeError\u001b[0m:      Error in routine  ions_checkin (1):\n       ion_dynamics 'relax' not allowed"
     ]
    }
   ],
   "source": [
    "co = Atoms([Atom('C', [0, 0, 0]),\n",
    "            Atom('O', [1.2, 0, 0])],\n",
    "            cell=(6., 6., 6.))\n",
    "\n",
    "#Use QE as a single-point calculator (just SCF)\n",
    "calc = Espresso(pw=350.0, \n",
    "                calculation='relax',\n",
    "                ion_dynamics='relax',\n",
    "                fmax=0.05,\n",
    "                xc='PBE')\n",
    "co.set_calculator(calc)\n",
    "co.get_forces()"
   ]
  },
  {
   "cell_type": "markdown",
   "metadata": {
    "colab_type": "text",
    "id": "3Ww8hCJxU8i6"
   },
   "source": [
    "# Exercises\n",
    "\n",
    "Build a molecule using the tools from the first lecture, or from hand, and do a geometry optimization on it. Verify that the forces are all small. Compute bond lengths and angles and compare them to known values.\n"
   ]
  },
  {
   "cell_type": "code",
   "execution_count": null,
   "metadata": {
    "colab": {},
    "colab_type": "code",
    "id": "OqkXSwCqTIrS"
   },
   "outputs": [],
   "source": []
  }
 ],
 "metadata": {
  "colab": {
   "authorship_tag": "ABX9TyMhqpkx7ELg2/zs1vvpSu3s",
   "name": "01-molecules.ipynb",
   "provenance": [],
   "toc_visible": true
  },
  "kernelspec": {
   "display_name": "Python 3",
   "language": "python",
   "name": "python3"
  },
  "language_info": {
   "codemirror_mode": {
    "name": "ipython",
    "version": 3
   },
   "file_extension": ".py",
   "mimetype": "text/x-python",
   "name": "python",
   "nbconvert_exporter": "python",
   "pygments_lexer": "ipython3",
   "version": "3.7.4"
  }
 },
 "nbformat": 4,
 "nbformat_minor": 4
}
